{
 "cells": [
  {
   "cell_type": "markdown",
   "id": "5eb77536",
   "metadata": {
    "papermill": {
     "duration": 0.016157,
     "end_time": "2025-07-08T05:44:09.479902",
     "exception": false,
     "start_time": "2025-07-08T05:44:09.463745",
     "status": "completed"
    },
    "tags": []
   },
   "source": [
    "# **Projeto Final do módulo Python para Ánalise de Dados**\n",
    "#### Aluna: Rafaela Eufrasio de Paula\n"
   ]
  },
  {
   "cell_type": "markdown",
   "id": "9ef9362c",
   "metadata": {
    "papermill": {
     "duration": 0.015028,
     "end_time": "2025-07-08T05:44:09.510638",
     "exception": false,
     "start_time": "2025-07-08T05:44:09.495610",
     "status": "completed"
    },
    "tags": []
   },
   "source": [
    "## 1. Descrição do problema\n",
    "\n",
    "O projeto tem como objetivo analisar um conjunto de dados de crédito contendo informações de clientes adimplentes e inadimplentes, a fim de identificar os principais fatores que podem influenciar a inadimplência. Utilizando Python para tratamento e análise dos dados, com o objetivo de entender padrões relacionados ao não pagamento, considerando atributos como renda mensal, escolaridade, idade, estado civil, entre outros. A partir dessa análise, pretende-se oferecer insights que possam auxiliar instituições financeiras a prever e mitigar riscos de crédito de forma mais eficiente."
   ]
  },
  {
   "cell_type": "markdown",
   "id": "6bb26187",
   "metadata": {
    "papermill": {
     "duration": 0.014911,
     "end_time": "2025-07-08T05:44:09.541388",
     "exception": false,
     "start_time": "2025-07-08T05:44:09.526477",
     "status": "completed"
    },
    "tags": []
   },
   "source": [
    "## 2. Exploração dos dados"
   ]
  },
  {
   "cell_type": "markdown",
   "id": "8c1e5f6d",
   "metadata": {
    "papermill": {
     "duration": 0.015043,
     "end_time": "2025-07-08T05:44:09.572361",
     "exception": false,
     "start_time": "2025-07-08T05:44:09.557318",
     "status": "completed"
    },
    "tags": []
   },
   "source": [
    "O atributo principal de interesse, `default`, é conhecido como **variável dependente**. Já os demais atributos, como `idade`, `salário`, entre outros que ajudam a explicar ou prever o comportamento da variável `default`, são chamados de **variáveis independentes** ou também **variáveis preditoras**.\n",
    "\n",
    "\n",
    "Abaixo segue uma descrição das variáveis:\n",
    "\n",
    "\n",
    "| Coluna  | Descrição |\n",
    "| ------- | --------- |\n",
    "| id      | Número da conta |\n",
    "| default | Indica se o cliente é adimplente (0) ou inadimplente (1) |\n",
    "| idade   | --- |\n",
    "| sexo    | --- |\n",
    "| depedentes | Indica o número de dependentes |\n",
    "| escolaridade | Grau de escolaridade |\n",
    "| estado_civil | --- |\n",
    "| salario_anual | Faixa do salario mensal multiplicado por 12 |\n",
    "| tipo_cartao | Categoria do cartao: blue, silver, gold e platinium |\n",
    "| meses_de_relacionamento | Quantidade de meses desde a abertura da conta |\n",
    "| qtd_produtos | Quantidade de produtos contratados |\n",
    "| iteracoes_12m | Quantidade de iteracoes com o cliente no último ano |\n",
    "| meses_inatico_12m | Quantidade de meses que o cliente ficou inativo no último ano |\n",
    "| limite_credito | Valor do limite do cartão de crédito |\n",
    "| valor_transacoes_12m | Soma total do valor das transações no cartão de crédito no último ano |\n",
    "| qtd_transacoes_12m | Quantidade total de transações no cartão de crédito no último ano |\n"
   ]
  },
  {
   "cell_type": "markdown",
   "id": "e9933499",
   "metadata": {
    "papermill": {
     "duration": 0.015171,
     "end_time": "2025-07-08T05:44:09.603196",
     "exception": false,
     "start_time": "2025-07-08T05:44:09.588025",
     "status": "completed"
    },
    "tags": []
   },
   "source": [
    "### 2.1 Carregamento dos dados\n",
    "\n",
    "Vamos começar lendo os dados num `DataFrame` do Pandas."
   ]
  },
  {
   "cell_type": "code",
   "execution_count": 1,
   "id": "f7881be2",
   "metadata": {
    "execution": {
     "iopub.execute_input": "2025-07-08T05:44:09.635647Z",
     "iopub.status.busy": "2025-07-08T05:44:09.635191Z",
     "iopub.status.idle": "2025-07-08T05:44:10.708087Z",
     "shell.execute_reply": "2025-07-08T05:44:10.706740Z"
    },
    "papermill": {
     "duration": 1.091889,
     "end_time": "2025-07-08T05:44:10.710506",
     "exception": false,
     "start_time": "2025-07-08T05:44:09.618617",
     "status": "completed"
    },
    "tags": []
   },
   "outputs": [],
   "source": [
    "import pandas as pd"
   ]
  },
  {
   "cell_type": "code",
   "execution_count": 2,
   "id": "16e1432c",
   "metadata": {
    "execution": {
     "iopub.execute_input": "2025-07-08T05:44:10.745254Z",
     "iopub.status.busy": "2025-07-08T05:44:10.744785Z",
     "iopub.status.idle": "2025-07-08T05:44:10.810135Z",
     "shell.execute_reply": "2025-07-08T05:44:10.808956Z"
    },
    "papermill": {
     "duration": 0.085364,
     "end_time": "2025-07-08T05:44:10.812378",
     "exception": false,
     "start_time": "2025-07-08T05:44:10.727014",
     "status": "completed"
    },
    "tags": []
   },
   "outputs": [],
   "source": [
    "df = pd.read_csv('/kaggle/input/python-m10/Python_M10_support material.csv', na_values='na')"
   ]
  },
  {
   "cell_type": "code",
   "execution_count": 3,
   "id": "3f521542",
   "metadata": {
    "execution": {
     "iopub.execute_input": "2025-07-08T05:44:10.849770Z",
     "iopub.status.busy": "2025-07-08T05:44:10.849249Z",
     "iopub.status.idle": "2025-07-08T05:44:10.878580Z",
     "shell.execute_reply": "2025-07-08T05:44:10.877433Z"
    },
    "papermill": {
     "duration": 0.051245,
     "end_time": "2025-07-08T05:44:10.880620",
     "exception": false,
     "start_time": "2025-07-08T05:44:10.829375",
     "status": "completed"
    },
    "tags": []
   },
   "outputs": [
    {
     "data": {
      "text/html": [
       "<div>\n",
       "<style scoped>\n",
       "    .dataframe tbody tr th:only-of-type {\n",
       "        vertical-align: middle;\n",
       "    }\n",
       "\n",
       "    .dataframe tbody tr th {\n",
       "        vertical-align: top;\n",
       "    }\n",
       "\n",
       "    .dataframe thead th {\n",
       "        text-align: right;\n",
       "    }\n",
       "</style>\n",
       "<table border=\"1\" class=\"dataframe\">\n",
       "  <thead>\n",
       "    <tr style=\"text-align: right;\">\n",
       "      <th></th>\n",
       "      <th>id</th>\n",
       "      <th>default</th>\n",
       "      <th>idade</th>\n",
       "      <th>sexo</th>\n",
       "      <th>dependentes</th>\n",
       "      <th>escolaridade</th>\n",
       "      <th>estado_civil</th>\n",
       "      <th>salario_anual</th>\n",
       "      <th>tipo_cartao</th>\n",
       "      <th>meses_de_relacionamento</th>\n",
       "      <th>qtd_produtos</th>\n",
       "      <th>iteracoes_12m</th>\n",
       "      <th>meses_inativo_12m</th>\n",
       "      <th>limite_credito</th>\n",
       "      <th>valor_transacoes_12m</th>\n",
       "      <th>qtd_transacoes_12m</th>\n",
       "    </tr>\n",
       "  </thead>\n",
       "  <tbody>\n",
       "    <tr>\n",
       "      <th>0</th>\n",
       "      <td>768805383</td>\n",
       "      <td>0</td>\n",
       "      <td>45</td>\n",
       "      <td>M</td>\n",
       "      <td>3</td>\n",
       "      <td>ensino medio</td>\n",
       "      <td>casado</td>\n",
       "      <td>$60K - $80K</td>\n",
       "      <td>blue</td>\n",
       "      <td>39</td>\n",
       "      <td>5</td>\n",
       "      <td>3</td>\n",
       "      <td>1</td>\n",
       "      <td>12.691,51</td>\n",
       "      <td>1.144,90</td>\n",
       "      <td>42</td>\n",
       "    </tr>\n",
       "    <tr>\n",
       "      <th>1</th>\n",
       "      <td>818770008</td>\n",
       "      <td>0</td>\n",
       "      <td>49</td>\n",
       "      <td>F</td>\n",
       "      <td>5</td>\n",
       "      <td>mestrado</td>\n",
       "      <td>solteiro</td>\n",
       "      <td>menos que $40K</td>\n",
       "      <td>blue</td>\n",
       "      <td>44</td>\n",
       "      <td>6</td>\n",
       "      <td>2</td>\n",
       "      <td>1</td>\n",
       "      <td>8.256,96</td>\n",
       "      <td>1.291,45</td>\n",
       "      <td>33</td>\n",
       "    </tr>\n",
       "    <tr>\n",
       "      <th>2</th>\n",
       "      <td>713982108</td>\n",
       "      <td>0</td>\n",
       "      <td>51</td>\n",
       "      <td>M</td>\n",
       "      <td>3</td>\n",
       "      <td>mestrado</td>\n",
       "      <td>casado</td>\n",
       "      <td>$80K - $120K</td>\n",
       "      <td>blue</td>\n",
       "      <td>36</td>\n",
       "      <td>4</td>\n",
       "      <td>0</td>\n",
       "      <td>1</td>\n",
       "      <td>3.418,56</td>\n",
       "      <td>1.887,72</td>\n",
       "      <td>20</td>\n",
       "    </tr>\n",
       "    <tr>\n",
       "      <th>3</th>\n",
       "      <td>769911858</td>\n",
       "      <td>0</td>\n",
       "      <td>40</td>\n",
       "      <td>F</td>\n",
       "      <td>4</td>\n",
       "      <td>ensino medio</td>\n",
       "      <td>NaN</td>\n",
       "      <td>menos que $40K</td>\n",
       "      <td>blue</td>\n",
       "      <td>34</td>\n",
       "      <td>3</td>\n",
       "      <td>1</td>\n",
       "      <td>4</td>\n",
       "      <td>3.313,03</td>\n",
       "      <td>1.171,56</td>\n",
       "      <td>20</td>\n",
       "    </tr>\n",
       "    <tr>\n",
       "      <th>4</th>\n",
       "      <td>709106358</td>\n",
       "      <td>0</td>\n",
       "      <td>40</td>\n",
       "      <td>M</td>\n",
       "      <td>3</td>\n",
       "      <td>sem educacao formal</td>\n",
       "      <td>casado</td>\n",
       "      <td>$60K - $80K</td>\n",
       "      <td>blue</td>\n",
       "      <td>21</td>\n",
       "      <td>5</td>\n",
       "      <td>0</td>\n",
       "      <td>1</td>\n",
       "      <td>4.716,22</td>\n",
       "      <td>816,08</td>\n",
       "      <td>28</td>\n",
       "    </tr>\n",
       "    <tr>\n",
       "      <th>5</th>\n",
       "      <td>713061558</td>\n",
       "      <td>0</td>\n",
       "      <td>44</td>\n",
       "      <td>M</td>\n",
       "      <td>2</td>\n",
       "      <td>mestrado</td>\n",
       "      <td>casado</td>\n",
       "      <td>$40K - $60K</td>\n",
       "      <td>blue</td>\n",
       "      <td>36</td>\n",
       "      <td>3</td>\n",
       "      <td>2</td>\n",
       "      <td>1</td>\n",
       "      <td>4.010,69</td>\n",
       "      <td>1.088,07</td>\n",
       "      <td>24</td>\n",
       "    </tr>\n",
       "    <tr>\n",
       "      <th>6</th>\n",
       "      <td>810347208</td>\n",
       "      <td>0</td>\n",
       "      <td>51</td>\n",
       "      <td>M</td>\n",
       "      <td>4</td>\n",
       "      <td>NaN</td>\n",
       "      <td>casado</td>\n",
       "      <td>$120K +</td>\n",
       "      <td>gold</td>\n",
       "      <td>46</td>\n",
       "      <td>6</td>\n",
       "      <td>3</td>\n",
       "      <td>1</td>\n",
       "      <td>34.516,72</td>\n",
       "      <td>1.330,87</td>\n",
       "      <td>31</td>\n",
       "    </tr>\n",
       "    <tr>\n",
       "      <th>7</th>\n",
       "      <td>818906208</td>\n",
       "      <td>0</td>\n",
       "      <td>32</td>\n",
       "      <td>M</td>\n",
       "      <td>0</td>\n",
       "      <td>ensino medio</td>\n",
       "      <td>NaN</td>\n",
       "      <td>$60K - $80K</td>\n",
       "      <td>silver</td>\n",
       "      <td>27</td>\n",
       "      <td>2</td>\n",
       "      <td>2</td>\n",
       "      <td>2</td>\n",
       "      <td>29.081,49</td>\n",
       "      <td>1.538,32</td>\n",
       "      <td>36</td>\n",
       "    </tr>\n",
       "    <tr>\n",
       "      <th>8</th>\n",
       "      <td>710930508</td>\n",
       "      <td>0</td>\n",
       "      <td>37</td>\n",
       "      <td>M</td>\n",
       "      <td>3</td>\n",
       "      <td>sem educacao formal</td>\n",
       "      <td>solteiro</td>\n",
       "      <td>$60K - $80K</td>\n",
       "      <td>blue</td>\n",
       "      <td>36</td>\n",
       "      <td>5</td>\n",
       "      <td>0</td>\n",
       "      <td>2</td>\n",
       "      <td>22.352,50</td>\n",
       "      <td>1.350,14</td>\n",
       "      <td>24</td>\n",
       "    </tr>\n",
       "    <tr>\n",
       "      <th>9</th>\n",
       "      <td>719661558</td>\n",
       "      <td>0</td>\n",
       "      <td>48</td>\n",
       "      <td>M</td>\n",
       "      <td>2</td>\n",
       "      <td>mestrado</td>\n",
       "      <td>solteiro</td>\n",
       "      <td>$80K - $120K</td>\n",
       "      <td>blue</td>\n",
       "      <td>36</td>\n",
       "      <td>6</td>\n",
       "      <td>3</td>\n",
       "      <td>3</td>\n",
       "      <td>11.656,41</td>\n",
       "      <td>1.441,73</td>\n",
       "      <td>32</td>\n",
       "    </tr>\n",
       "  </tbody>\n",
       "</table>\n",
       "</div>"
      ],
      "text/plain": [
       "          id  default  idade sexo  dependentes         escolaridade  \\\n",
       "0  768805383        0     45    M            3         ensino medio   \n",
       "1  818770008        0     49    F            5             mestrado   \n",
       "2  713982108        0     51    M            3             mestrado   \n",
       "3  769911858        0     40    F            4         ensino medio   \n",
       "4  709106358        0     40    M            3  sem educacao formal   \n",
       "5  713061558        0     44    M            2             mestrado   \n",
       "6  810347208        0     51    M            4                  NaN   \n",
       "7  818906208        0     32    M            0         ensino medio   \n",
       "8  710930508        0     37    M            3  sem educacao formal   \n",
       "9  719661558        0     48    M            2             mestrado   \n",
       "\n",
       "  estado_civil   salario_anual tipo_cartao  meses_de_relacionamento  \\\n",
       "0       casado     $60K - $80K        blue                       39   \n",
       "1     solteiro  menos que $40K        blue                       44   \n",
       "2       casado    $80K - $120K        blue                       36   \n",
       "3          NaN  menos que $40K        blue                       34   \n",
       "4       casado     $60K - $80K        blue                       21   \n",
       "5       casado     $40K - $60K        blue                       36   \n",
       "6       casado         $120K +        gold                       46   \n",
       "7          NaN     $60K - $80K      silver                       27   \n",
       "8     solteiro     $60K - $80K        blue                       36   \n",
       "9     solteiro    $80K - $120K        blue                       36   \n",
       "\n",
       "   qtd_produtos  iteracoes_12m  meses_inativo_12m limite_credito  \\\n",
       "0             5              3                  1      12.691,51   \n",
       "1             6              2                  1       8.256,96   \n",
       "2             4              0                  1       3.418,56   \n",
       "3             3              1                  4       3.313,03   \n",
       "4             5              0                  1       4.716,22   \n",
       "5             3              2                  1       4.010,69   \n",
       "6             6              3                  1      34.516,72   \n",
       "7             2              2                  2      29.081,49   \n",
       "8             5              0                  2      22.352,50   \n",
       "9             6              3                  3      11.656,41   \n",
       "\n",
       "  valor_transacoes_12m  qtd_transacoes_12m  \n",
       "0             1.144,90                  42  \n",
       "1             1.291,45                  33  \n",
       "2             1.887,72                  20  \n",
       "3             1.171,56                  20  \n",
       "4               816,08                  28  \n",
       "5             1.088,07                  24  \n",
       "6             1.330,87                  31  \n",
       "7             1.538,32                  36  \n",
       "8             1.350,14                  24  \n",
       "9             1.441,73                  32  "
      ]
     },
     "execution_count": 3,
     "metadata": {},
     "output_type": "execute_result"
    }
   ],
   "source": [
    "df.head(n=10)"
   ]
  },
  {
   "cell_type": "markdown",
   "id": "b2cb8fc8",
   "metadata": {
    "papermill": {
     "duration": 0.016071,
     "end_time": "2025-07-08T05:44:10.913898",
     "exception": false,
     "start_time": "2025-07-08T05:44:10.897827",
     "status": "completed"
    },
    "tags": []
   },
   "source": [
    "## 2.2 Estrutura\n",
    "\n",
    "Em seguida vamos ver a estrutura dos dados. "
   ]
  },
  {
   "cell_type": "code",
   "execution_count": 4,
   "id": "d318cf6c",
   "metadata": {
    "execution": {
     "iopub.execute_input": "2025-07-08T05:44:10.947606Z",
     "iopub.status.busy": "2025-07-08T05:44:10.947135Z",
     "iopub.status.idle": "2025-07-08T05:44:10.953387Z",
     "shell.execute_reply": "2025-07-08T05:44:10.952280Z"
    },
    "papermill": {
     "duration": 0.025648,
     "end_time": "2025-07-08T05:44:10.955517",
     "exception": false,
     "start_time": "2025-07-08T05:44:10.929869",
     "status": "completed"
    },
    "tags": []
   },
   "outputs": [
    {
     "data": {
      "text/plain": [
       "(10127, 16)"
      ]
     },
     "execution_count": 4,
     "metadata": {},
     "output_type": "execute_result"
    }
   ],
   "source": [
    "df.shape"
   ]
  },
  {
   "cell_type": "markdown",
   "id": "e4d5380f",
   "metadata": {
    "papermill": {
     "duration": 0.017678,
     "end_time": "2025-07-08T05:44:10.989899",
     "exception": false,
     "start_time": "2025-07-08T05:44:10.972221",
     "status": "completed"
    },
    "tags": []
   },
   "source": [
    "### Acima podemos ver que o comando `df.shape` nos mostra o número de linhas e colunas (respectivamente)."
   ]
  },
  {
   "cell_type": "markdown",
   "id": "bdcd3111",
   "metadata": {
    "papermill": {
     "duration": 0.027367,
     "end_time": "2025-07-08T05:44:11.040786",
     "exception": false,
     "start_time": "2025-07-08T05:44:11.013419",
     "status": "completed"
    },
    "tags": []
   },
   "source": [
    "### A"
   ]
  },
  {
   "cell_type": "code",
   "execution_count": 5,
   "id": "2003bd2f",
   "metadata": {
    "execution": {
     "iopub.execute_input": "2025-07-08T05:44:11.084143Z",
     "iopub.status.busy": "2025-07-08T05:44:11.083686Z",
     "iopub.status.idle": "2025-07-08T05:44:11.097727Z",
     "shell.execute_reply": "2025-07-08T05:44:11.096370Z"
    },
    "papermill": {
     "duration": 0.033875,
     "end_time": "2025-07-08T05:44:11.099834",
     "exception": false,
     "start_time": "2025-07-08T05:44:11.065959",
     "status": "completed"
    },
    "tags": []
   },
   "outputs": [
    {
     "data": {
      "text/plain": [
       "(8500, 16)"
      ]
     },
     "execution_count": 5,
     "metadata": {},
     "output_type": "execute_result"
    }
   ],
   "source": [
    "# A número de linhas e colunas para o default = 0 (clientes adimplentes)\n",
    "df[df['default'] == 0].shape"
   ]
  },
  {
   "cell_type": "markdown",
   "id": "d38f56d5",
   "metadata": {
    "papermill": {
     "duration": 0.016343,
     "end_time": "2025-07-08T05:44:11.132887",
     "exception": false,
     "start_time": "2025-07-08T05:44:11.116544",
     "status": "completed"
    },
    "tags": []
   },
   "source": [
    "### B"
   ]
  },
  {
   "cell_type": "code",
   "execution_count": 6,
   "id": "bfaf550d",
   "metadata": {
    "execution": {
     "iopub.execute_input": "2025-07-08T05:44:11.170571Z",
     "iopub.status.busy": "2025-07-08T05:44:11.170122Z",
     "iopub.status.idle": "2025-07-08T05:44:11.180818Z",
     "shell.execute_reply": "2025-07-08T05:44:11.178795Z"
    },
    "papermill": {
     "duration": 0.033771,
     "end_time": "2025-07-08T05:44:11.183183",
     "exception": false,
     "start_time": "2025-07-08T05:44:11.149412",
     "status": "completed"
    },
    "tags": []
   },
   "outputs": [
    {
     "data": {
      "text/plain": [
       "(1627, 16)"
      ]
     },
     "execution_count": 6,
     "metadata": {},
     "output_type": "execute_result"
    }
   ],
   "source": [
    "# B número de linhas e colunas para o default = 1 (clientes inadimplentes)\n",
    "df[df['default'] == 1].shape"
   ]
  },
  {
   "cell_type": "markdown",
   "id": "80be1a8d",
   "metadata": {
    "papermill": {
     "duration": 0.028516,
     "end_time": "2025-07-08T05:44:11.230980",
     "exception": false,
     "start_time": "2025-07-08T05:44:11.202464",
     "status": "completed"
    },
    "tags": []
   },
   "source": [
    "### Acima podemos ver o número de linhas e colunas dos cliente adimplentes (A) e inadimplentes (B)."
   ]
  },
  {
   "cell_type": "code",
   "execution_count": 7,
   "id": "4726c9fd",
   "metadata": {
    "execution": {
     "iopub.execute_input": "2025-07-08T05:44:11.284677Z",
     "iopub.status.busy": "2025-07-08T05:44:11.284028Z",
     "iopub.status.idle": "2025-07-08T05:44:11.296174Z",
     "shell.execute_reply": "2025-07-08T05:44:11.294168Z"
    },
    "papermill": {
     "duration": 0.040845,
     "end_time": "2025-07-08T05:44:11.298942",
     "exception": false,
     "start_time": "2025-07-08T05:44:11.258097",
     "status": "completed"
    },
    "tags": []
   },
   "outputs": [],
   "source": [
    "quant_total, _ = df.shape\n",
    "quant_adimplentes , _ = df[df['default']==0].shape\n",
    "quant_inadimplentes, _ = df[df['default']==1].shape"
   ]
  },
  {
   "cell_type": "code",
   "execution_count": 8,
   "id": "dc4d8341",
   "metadata": {
    "execution": {
     "iopub.execute_input": "2025-07-08T05:44:11.342553Z",
     "iopub.status.busy": "2025-07-08T05:44:11.341951Z",
     "iopub.status.idle": "2025-07-08T05:44:11.350997Z",
     "shell.execute_reply": "2025-07-08T05:44:11.349012Z"
    },
    "papermill": {
     "duration": 0.035868,
     "end_time": "2025-07-08T05:44:11.353918",
     "exception": false,
     "start_time": "2025-07-08T05:44:11.318050",
     "status": "completed"
    },
    "tags": []
   },
   "outputs": [
    {
     "name": "stdout",
     "output_type": "stream",
     "text": [
      "A proporcão clientes adimplentes é de 83.93%\n",
      "A proporcão clientes inadimplentes é de 16.07%\n"
     ]
    }
   ],
   "source": [
    "print(f\"A proporcão clientes adimplentes é de {round(100 * quant_adimplentes / quant_total, 2)}%\")\n",
    "print(f\"A proporcão clientes inadimplentes é de {round(100 * quant_inadimplentes / quant_total, 2)}%\")"
   ]
  },
  {
   "cell_type": "markdown",
   "id": "4ae725f0",
   "metadata": {
    "papermill": {
     "duration": 0.021427,
     "end_time": "2025-07-08T05:44:11.396998",
     "exception": false,
     "start_time": "2025-07-08T05:44:11.375571",
     "status": "completed"
    },
    "tags": []
   },
   "source": [
    "## 2.2 Schema\n",
    "\n",
    "### Aqui vamos ver com quais tipos de daods estamos trabalhando. "
   ]
  },
  {
   "cell_type": "code",
   "execution_count": 9,
   "id": "fae85170",
   "metadata": {
    "execution": {
     "iopub.execute_input": "2025-07-08T05:44:11.433251Z",
     "iopub.status.busy": "2025-07-08T05:44:11.432814Z",
     "iopub.status.idle": "2025-07-08T05:44:11.448973Z",
     "shell.execute_reply": "2025-07-08T05:44:11.447774Z"
    },
    "papermill": {
     "duration": 0.035899,
     "end_time": "2025-07-08T05:44:11.450923",
     "exception": false,
     "start_time": "2025-07-08T05:44:11.415024",
     "status": "completed"
    },
    "tags": []
   },
   "outputs": [
    {
     "data": {
      "text/html": [
       "<div>\n",
       "<style scoped>\n",
       "    .dataframe tbody tr th:only-of-type {\n",
       "        vertical-align: middle;\n",
       "    }\n",
       "\n",
       "    .dataframe tbody tr th {\n",
       "        vertical-align: top;\n",
       "    }\n",
       "\n",
       "    .dataframe thead th {\n",
       "        text-align: right;\n",
       "    }\n",
       "</style>\n",
       "<table border=\"1\" class=\"dataframe\">\n",
       "  <thead>\n",
       "    <tr style=\"text-align: right;\">\n",
       "      <th></th>\n",
       "      <th>id</th>\n",
       "      <th>default</th>\n",
       "      <th>idade</th>\n",
       "      <th>sexo</th>\n",
       "      <th>dependentes</th>\n",
       "      <th>escolaridade</th>\n",
       "      <th>estado_civil</th>\n",
       "      <th>salario_anual</th>\n",
       "      <th>tipo_cartao</th>\n",
       "      <th>meses_de_relacionamento</th>\n",
       "      <th>qtd_produtos</th>\n",
       "      <th>iteracoes_12m</th>\n",
       "      <th>meses_inativo_12m</th>\n",
       "      <th>limite_credito</th>\n",
       "      <th>valor_transacoes_12m</th>\n",
       "      <th>qtd_transacoes_12m</th>\n",
       "    </tr>\n",
       "  </thead>\n",
       "  <tbody>\n",
       "    <tr>\n",
       "      <th>0</th>\n",
       "      <td>768805383</td>\n",
       "      <td>0</td>\n",
       "      <td>45</td>\n",
       "      <td>M</td>\n",
       "      <td>3</td>\n",
       "      <td>ensino medio</td>\n",
       "      <td>casado</td>\n",
       "      <td>$60K - $80K</td>\n",
       "      <td>blue</td>\n",
       "      <td>39</td>\n",
       "      <td>5</td>\n",
       "      <td>3</td>\n",
       "      <td>1</td>\n",
       "      <td>12.691,51</td>\n",
       "      <td>1.144,90</td>\n",
       "      <td>42</td>\n",
       "    </tr>\n",
       "    <tr>\n",
       "      <th>1</th>\n",
       "      <td>818770008</td>\n",
       "      <td>0</td>\n",
       "      <td>49</td>\n",
       "      <td>F</td>\n",
       "      <td>5</td>\n",
       "      <td>mestrado</td>\n",
       "      <td>solteiro</td>\n",
       "      <td>menos que $40K</td>\n",
       "      <td>blue</td>\n",
       "      <td>44</td>\n",
       "      <td>6</td>\n",
       "      <td>2</td>\n",
       "      <td>1</td>\n",
       "      <td>8.256,96</td>\n",
       "      <td>1.291,45</td>\n",
       "      <td>33</td>\n",
       "    </tr>\n",
       "    <tr>\n",
       "      <th>2</th>\n",
       "      <td>713982108</td>\n",
       "      <td>0</td>\n",
       "      <td>51</td>\n",
       "      <td>M</td>\n",
       "      <td>3</td>\n",
       "      <td>mestrado</td>\n",
       "      <td>casado</td>\n",
       "      <td>$80K - $120K</td>\n",
       "      <td>blue</td>\n",
       "      <td>36</td>\n",
       "      <td>4</td>\n",
       "      <td>0</td>\n",
       "      <td>1</td>\n",
       "      <td>3.418,56</td>\n",
       "      <td>1.887,72</td>\n",
       "      <td>20</td>\n",
       "    </tr>\n",
       "    <tr>\n",
       "      <th>3</th>\n",
       "      <td>769911858</td>\n",
       "      <td>0</td>\n",
       "      <td>40</td>\n",
       "      <td>F</td>\n",
       "      <td>4</td>\n",
       "      <td>ensino medio</td>\n",
       "      <td>NaN</td>\n",
       "      <td>menos que $40K</td>\n",
       "      <td>blue</td>\n",
       "      <td>34</td>\n",
       "      <td>3</td>\n",
       "      <td>1</td>\n",
       "      <td>4</td>\n",
       "      <td>3.313,03</td>\n",
       "      <td>1.171,56</td>\n",
       "      <td>20</td>\n",
       "    </tr>\n",
       "    <tr>\n",
       "      <th>4</th>\n",
       "      <td>709106358</td>\n",
       "      <td>0</td>\n",
       "      <td>40</td>\n",
       "      <td>M</td>\n",
       "      <td>3</td>\n",
       "      <td>sem educacao formal</td>\n",
       "      <td>casado</td>\n",
       "      <td>$60K - $80K</td>\n",
       "      <td>blue</td>\n",
       "      <td>21</td>\n",
       "      <td>5</td>\n",
       "      <td>0</td>\n",
       "      <td>1</td>\n",
       "      <td>4.716,22</td>\n",
       "      <td>816,08</td>\n",
       "      <td>28</td>\n",
       "    </tr>\n",
       "  </tbody>\n",
       "</table>\n",
       "</div>"
      ],
      "text/plain": [
       "          id  default  idade sexo  dependentes         escolaridade  \\\n",
       "0  768805383        0     45    M            3         ensino medio   \n",
       "1  818770008        0     49    F            5             mestrado   \n",
       "2  713982108        0     51    M            3             mestrado   \n",
       "3  769911858        0     40    F            4         ensino medio   \n",
       "4  709106358        0     40    M            3  sem educacao formal   \n",
       "\n",
       "  estado_civil   salario_anual tipo_cartao  meses_de_relacionamento  \\\n",
       "0       casado     $60K - $80K        blue                       39   \n",
       "1     solteiro  menos que $40K        blue                       44   \n",
       "2       casado    $80K - $120K        blue                       36   \n",
       "3          NaN  menos que $40K        blue                       34   \n",
       "4       casado     $60K - $80K        blue                       21   \n",
       "\n",
       "   qtd_produtos  iteracoes_12m  meses_inativo_12m limite_credito  \\\n",
       "0             5              3                  1      12.691,51   \n",
       "1             6              2                  1       8.256,96   \n",
       "2             4              0                  1       3.418,56   \n",
       "3             3              1                  4       3.313,03   \n",
       "4             5              0                  1       4.716,22   \n",
       "\n",
       "  valor_transacoes_12m  qtd_transacoes_12m  \n",
       "0             1.144,90                  42  \n",
       "1             1.291,45                  33  \n",
       "2             1.887,72                  20  \n",
       "3             1.171,56                  20  \n",
       "4               816,08                  28  "
      ]
     },
     "execution_count": 9,
     "metadata": {},
     "output_type": "execute_result"
    }
   ],
   "source": [
    "df.head(n=5)"
   ]
  },
  {
   "cell_type": "markdown",
   "id": "1b1bfb91",
   "metadata": {
    "papermill": {
     "duration": 0.017362,
     "end_time": "2025-07-08T05:44:11.485743",
     "exception": false,
     "start_time": "2025-07-08T05:44:11.468381",
     "status": "completed"
    },
    "tags": []
   },
   "source": [
    "### Abaixo temos as colunas e seus tipos de dados:"
   ]
  },
  {
   "cell_type": "code",
   "execution_count": 10,
   "id": "d615ae7d",
   "metadata": {
    "execution": {
     "iopub.execute_input": "2025-07-08T05:44:11.522585Z",
     "iopub.status.busy": "2025-07-08T05:44:11.522157Z",
     "iopub.status.idle": "2025-07-08T05:44:11.530319Z",
     "shell.execute_reply": "2025-07-08T05:44:11.529073Z"
    },
    "papermill": {
     "duration": 0.028816,
     "end_time": "2025-07-08T05:44:11.532086",
     "exception": false,
     "start_time": "2025-07-08T05:44:11.503270",
     "status": "completed"
    },
    "tags": []
   },
   "outputs": [
    {
     "data": {
      "text/plain": [
       "id                          int64\n",
       "default                     int64\n",
       "idade                       int64\n",
       "sexo                       object\n",
       "dependentes                 int64\n",
       "escolaridade               object\n",
       "estado_civil               object\n",
       "salario_anual              object\n",
       "tipo_cartao                object\n",
       "meses_de_relacionamento     int64\n",
       "qtd_produtos                int64\n",
       "iteracoes_12m               int64\n",
       "meses_inativo_12m           int64\n",
       "limite_credito             object\n",
       "valor_transacoes_12m       object\n",
       "qtd_transacoes_12m          int64\n",
       "dtype: object"
      ]
     },
     "execution_count": 10,
     "metadata": {},
     "output_type": "execute_result"
    }
   ],
   "source": [
    "df.dtypes"
   ]
  },
  {
   "cell_type": "markdown",
   "id": "5909f392",
   "metadata": {
    "papermill": {
     "duration": 0.017532,
     "end_time": "2025-07-08T05:44:11.566935",
     "exception": false,
     "start_time": "2025-07-08T05:44:11.549403",
     "status": "completed"
    },
    "tags": []
   },
   "source": [
    "### Aqui podemos ver os atributos **categoricos**:"
   ]
  },
  {
   "cell_type": "code",
   "execution_count": 11,
   "id": "80c1b72f",
   "metadata": {
    "execution": {
     "iopub.execute_input": "2025-07-08T05:44:11.603435Z",
     "iopub.status.busy": "2025-07-08T05:44:11.603001Z",
     "iopub.status.idle": "2025-07-08T05:44:11.652422Z",
     "shell.execute_reply": "2025-07-08T05:44:11.651250Z"
    },
    "papermill": {
     "duration": 0.070288,
     "end_time": "2025-07-08T05:44:11.654494",
     "exception": false,
     "start_time": "2025-07-08T05:44:11.584206",
     "status": "completed"
    },
    "tags": []
   },
   "outputs": [
    {
     "data": {
      "text/html": [
       "<div>\n",
       "<style scoped>\n",
       "    .dataframe tbody tr th:only-of-type {\n",
       "        vertical-align: middle;\n",
       "    }\n",
       "\n",
       "    .dataframe tbody tr th {\n",
       "        vertical-align: top;\n",
       "    }\n",
       "\n",
       "    .dataframe thead th {\n",
       "        text-align: right;\n",
       "    }\n",
       "</style>\n",
       "<table border=\"1\" class=\"dataframe\">\n",
       "  <thead>\n",
       "    <tr style=\"text-align: right;\">\n",
       "      <th></th>\n",
       "      <th>count</th>\n",
       "      <th>unique</th>\n",
       "      <th>top</th>\n",
       "      <th>freq</th>\n",
       "    </tr>\n",
       "  </thead>\n",
       "  <tbody>\n",
       "    <tr>\n",
       "      <th>sexo</th>\n",
       "      <td>10127</td>\n",
       "      <td>2</td>\n",
       "      <td>F</td>\n",
       "      <td>5358</td>\n",
       "    </tr>\n",
       "    <tr>\n",
       "      <th>escolaridade</th>\n",
       "      <td>8608</td>\n",
       "      <td>5</td>\n",
       "      <td>mestrado</td>\n",
       "      <td>3128</td>\n",
       "    </tr>\n",
       "    <tr>\n",
       "      <th>estado_civil</th>\n",
       "      <td>9378</td>\n",
       "      <td>3</td>\n",
       "      <td>casado</td>\n",
       "      <td>4687</td>\n",
       "    </tr>\n",
       "    <tr>\n",
       "      <th>salario_anual</th>\n",
       "      <td>9015</td>\n",
       "      <td>5</td>\n",
       "      <td>menos que $40K</td>\n",
       "      <td>3561</td>\n",
       "    </tr>\n",
       "    <tr>\n",
       "      <th>tipo_cartao</th>\n",
       "      <td>10127</td>\n",
       "      <td>4</td>\n",
       "      <td>blue</td>\n",
       "      <td>9436</td>\n",
       "    </tr>\n",
       "    <tr>\n",
       "      <th>limite_credito</th>\n",
       "      <td>10127</td>\n",
       "      <td>9272</td>\n",
       "      <td>1.438,21</td>\n",
       "      <td>11</td>\n",
       "    </tr>\n",
       "    <tr>\n",
       "      <th>valor_transacoes_12m</th>\n",
       "      <td>10127</td>\n",
       "      <td>10035</td>\n",
       "      <td>3.851,51</td>\n",
       "      <td>3</td>\n",
       "    </tr>\n",
       "  </tbody>\n",
       "</table>\n",
       "</div>"
      ],
      "text/plain": [
       "                      count unique             top  freq\n",
       "sexo                  10127      2               F  5358\n",
       "escolaridade           8608      5        mestrado  3128\n",
       "estado_civil           9378      3          casado  4687\n",
       "salario_anual          9015      5  menos que $40K  3561\n",
       "tipo_cartao           10127      4            blue  9436\n",
       "limite_credito        10127   9272        1.438,21    11\n",
       "valor_transacoes_12m  10127  10035        3.851,51     3"
      ]
     },
     "execution_count": 11,
     "metadata": {},
     "output_type": "execute_result"
    }
   ],
   "source": [
    "df.select_dtypes('object').describe().transpose()"
   ]
  },
  {
   "cell_type": "markdown",
   "id": "8e2a4b9a",
   "metadata": {
    "papermill": {
     "duration": 0.017876,
     "end_time": "2025-07-08T05:44:11.690216",
     "exception": false,
     "start_time": "2025-07-08T05:44:11.672340",
     "status": "completed"
    },
    "tags": []
   },
   "source": [
    "### Aqui podemos ver os atributos **numéricos**:"
   ]
  },
  {
   "cell_type": "code",
   "execution_count": 12,
   "id": "4f0a11fa",
   "metadata": {
    "execution": {
     "iopub.execute_input": "2025-07-08T05:44:11.728045Z",
     "iopub.status.busy": "2025-07-08T05:44:11.727491Z",
     "iopub.status.idle": "2025-07-08T05:44:11.773423Z",
     "shell.execute_reply": "2025-07-08T05:44:11.772198Z"
    },
    "papermill": {
     "duration": 0.066848,
     "end_time": "2025-07-08T05:44:11.775476",
     "exception": false,
     "start_time": "2025-07-08T05:44:11.708628",
     "status": "completed"
    },
    "tags": []
   },
   "outputs": [
    {
     "data": {
      "text/html": [
       "<div>\n",
       "<style scoped>\n",
       "    .dataframe tbody tr th:only-of-type {\n",
       "        vertical-align: middle;\n",
       "    }\n",
       "\n",
       "    .dataframe tbody tr th {\n",
       "        vertical-align: top;\n",
       "    }\n",
       "\n",
       "    .dataframe thead th {\n",
       "        text-align: right;\n",
       "    }\n",
       "</style>\n",
       "<table border=\"1\" class=\"dataframe\">\n",
       "  <thead>\n",
       "    <tr style=\"text-align: right;\">\n",
       "      <th></th>\n",
       "      <th>count</th>\n",
       "      <th>mean</th>\n",
       "      <th>std</th>\n",
       "      <th>min</th>\n",
       "      <th>25%</th>\n",
       "      <th>50%</th>\n",
       "      <th>75%</th>\n",
       "      <th>max</th>\n",
       "    </tr>\n",
       "  </thead>\n",
       "  <tbody>\n",
       "    <tr>\n",
       "      <th>default</th>\n",
       "      <td>10127.0</td>\n",
       "      <td>0.160660</td>\n",
       "      <td>0.367235</td>\n",
       "      <td>0.0</td>\n",
       "      <td>0.0</td>\n",
       "      <td>0.0</td>\n",
       "      <td>0.0</td>\n",
       "      <td>1.0</td>\n",
       "    </tr>\n",
       "    <tr>\n",
       "      <th>idade</th>\n",
       "      <td>10127.0</td>\n",
       "      <td>46.325960</td>\n",
       "      <td>8.016814</td>\n",
       "      <td>26.0</td>\n",
       "      <td>41.0</td>\n",
       "      <td>46.0</td>\n",
       "      <td>52.0</td>\n",
       "      <td>73.0</td>\n",
       "    </tr>\n",
       "    <tr>\n",
       "      <th>dependentes</th>\n",
       "      <td>10127.0</td>\n",
       "      <td>2.346203</td>\n",
       "      <td>1.298908</td>\n",
       "      <td>0.0</td>\n",
       "      <td>1.0</td>\n",
       "      <td>2.0</td>\n",
       "      <td>3.0</td>\n",
       "      <td>5.0</td>\n",
       "    </tr>\n",
       "    <tr>\n",
       "      <th>meses_de_relacionamento</th>\n",
       "      <td>10127.0</td>\n",
       "      <td>35.928409</td>\n",
       "      <td>7.986416</td>\n",
       "      <td>13.0</td>\n",
       "      <td>31.0</td>\n",
       "      <td>36.0</td>\n",
       "      <td>40.0</td>\n",
       "      <td>56.0</td>\n",
       "    </tr>\n",
       "    <tr>\n",
       "      <th>qtd_produtos</th>\n",
       "      <td>10127.0</td>\n",
       "      <td>3.812580</td>\n",
       "      <td>1.554408</td>\n",
       "      <td>1.0</td>\n",
       "      <td>3.0</td>\n",
       "      <td>4.0</td>\n",
       "      <td>5.0</td>\n",
       "      <td>6.0</td>\n",
       "    </tr>\n",
       "    <tr>\n",
       "      <th>iteracoes_12m</th>\n",
       "      <td>10127.0</td>\n",
       "      <td>2.455317</td>\n",
       "      <td>1.106225</td>\n",
       "      <td>0.0</td>\n",
       "      <td>2.0</td>\n",
       "      <td>2.0</td>\n",
       "      <td>3.0</td>\n",
       "      <td>6.0</td>\n",
       "    </tr>\n",
       "    <tr>\n",
       "      <th>meses_inativo_12m</th>\n",
       "      <td>10127.0</td>\n",
       "      <td>2.341167</td>\n",
       "      <td>1.010622</td>\n",
       "      <td>0.0</td>\n",
       "      <td>2.0</td>\n",
       "      <td>2.0</td>\n",
       "      <td>3.0</td>\n",
       "      <td>6.0</td>\n",
       "    </tr>\n",
       "    <tr>\n",
       "      <th>qtd_transacoes_12m</th>\n",
       "      <td>10127.0</td>\n",
       "      <td>64.858695</td>\n",
       "      <td>23.472570</td>\n",
       "      <td>10.0</td>\n",
       "      <td>45.0</td>\n",
       "      <td>67.0</td>\n",
       "      <td>81.0</td>\n",
       "      <td>139.0</td>\n",
       "    </tr>\n",
       "  </tbody>\n",
       "</table>\n",
       "</div>"
      ],
      "text/plain": [
       "                           count       mean        std   min   25%   50%  \\\n",
       "default                  10127.0   0.160660   0.367235   0.0   0.0   0.0   \n",
       "idade                    10127.0  46.325960   8.016814  26.0  41.0  46.0   \n",
       "dependentes              10127.0   2.346203   1.298908   0.0   1.0   2.0   \n",
       "meses_de_relacionamento  10127.0  35.928409   7.986416  13.0  31.0  36.0   \n",
       "qtd_produtos             10127.0   3.812580   1.554408   1.0   3.0   4.0   \n",
       "iteracoes_12m            10127.0   2.455317   1.106225   0.0   2.0   2.0   \n",
       "meses_inativo_12m        10127.0   2.341167   1.010622   0.0   2.0   2.0   \n",
       "qtd_transacoes_12m       10127.0  64.858695  23.472570  10.0  45.0  67.0   \n",
       "\n",
       "                          75%    max  \n",
       "default                   0.0    1.0  \n",
       "idade                    52.0   73.0  \n",
       "dependentes               3.0    5.0  \n",
       "meses_de_relacionamento  40.0   56.0  \n",
       "qtd_produtos              5.0    6.0  \n",
       "iteracoes_12m             3.0    6.0  \n",
       "meses_inativo_12m         3.0    6.0  \n",
       "qtd_transacoes_12m       81.0  139.0  "
      ]
     },
     "execution_count": 12,
     "metadata": {},
     "output_type": "execute_result"
    }
   ],
   "source": [
    "df.drop('id', axis=1).select_dtypes('number').describe().transpose()"
   ]
  },
  {
   "cell_type": "markdown",
   "id": "f39ffc9d",
   "metadata": {
    "papermill": {
     "duration": 0.017027,
     "end_time": "2025-07-08T05:44:11.811473",
     "exception": false,
     "start_time": "2025-07-08T05:44:11.794446",
     "status": "completed"
    },
    "tags": []
   },
   "source": [
    "## 2.3 Dados Faltantes"
   ]
  },
  {
   "cell_type": "markdown",
   "id": "8bdc07af",
   "metadata": {
    "papermill": {
     "duration": 0.016846,
     "end_time": "2025-07-08T05:44:11.845500",
     "exception": false,
     "start_time": "2025-07-08T05:44:11.828654",
     "status": "completed"
    },
    "tags": []
   },
   "source": [
    "### Um passo improtanto é verificar os dados faltantes que podem ser: \n",
    "- Vazios (`\"\"`)\n",
    "- Nulos (`None`)\n",
    "- Não disponíveis (`na`,`NA`)\n",
    "- não numéricos (`nan`,`NaN`,`NAN`)"
   ]
  },
  {
   "cell_type": "code",
   "execution_count": 13,
   "id": "44537a35",
   "metadata": {
    "execution": {
     "iopub.execute_input": "2025-07-08T05:44:11.883229Z",
     "iopub.status.busy": "2025-07-08T05:44:11.882820Z",
     "iopub.status.idle": "2025-07-08T05:44:11.898871Z",
     "shell.execute_reply": "2025-07-08T05:44:11.897653Z"
    },
    "papermill": {
     "duration": 0.037502,
     "end_time": "2025-07-08T05:44:11.900932",
     "exception": false,
     "start_time": "2025-07-08T05:44:11.863430",
     "status": "completed"
    },
    "tags": []
   },
   "outputs": [
    {
     "data": {
      "text/html": [
       "<div>\n",
       "<style scoped>\n",
       "    .dataframe tbody tr th:only-of-type {\n",
       "        vertical-align: middle;\n",
       "    }\n",
       "\n",
       "    .dataframe tbody tr th {\n",
       "        vertical-align: top;\n",
       "    }\n",
       "\n",
       "    .dataframe thead th {\n",
       "        text-align: right;\n",
       "    }\n",
       "</style>\n",
       "<table border=\"1\" class=\"dataframe\">\n",
       "  <thead>\n",
       "    <tr style=\"text-align: right;\">\n",
       "      <th></th>\n",
       "      <th>id</th>\n",
       "      <th>default</th>\n",
       "      <th>idade</th>\n",
       "      <th>sexo</th>\n",
       "      <th>dependentes</th>\n",
       "      <th>escolaridade</th>\n",
       "      <th>estado_civil</th>\n",
       "      <th>salario_anual</th>\n",
       "      <th>tipo_cartao</th>\n",
       "      <th>meses_de_relacionamento</th>\n",
       "      <th>qtd_produtos</th>\n",
       "      <th>iteracoes_12m</th>\n",
       "      <th>meses_inativo_12m</th>\n",
       "      <th>limite_credito</th>\n",
       "      <th>valor_transacoes_12m</th>\n",
       "      <th>qtd_transacoes_12m</th>\n",
       "    </tr>\n",
       "  </thead>\n",
       "  <tbody>\n",
       "    <tr>\n",
       "      <th>0</th>\n",
       "      <td>768805383</td>\n",
       "      <td>0</td>\n",
       "      <td>45</td>\n",
       "      <td>M</td>\n",
       "      <td>3</td>\n",
       "      <td>ensino medio</td>\n",
       "      <td>casado</td>\n",
       "      <td>$60K - $80K</td>\n",
       "      <td>blue</td>\n",
       "      <td>39</td>\n",
       "      <td>5</td>\n",
       "      <td>3</td>\n",
       "      <td>1</td>\n",
       "      <td>12.691,51</td>\n",
       "      <td>1.144,90</td>\n",
       "      <td>42</td>\n",
       "    </tr>\n",
       "    <tr>\n",
       "      <th>1</th>\n",
       "      <td>818770008</td>\n",
       "      <td>0</td>\n",
       "      <td>49</td>\n",
       "      <td>F</td>\n",
       "      <td>5</td>\n",
       "      <td>mestrado</td>\n",
       "      <td>solteiro</td>\n",
       "      <td>menos que $40K</td>\n",
       "      <td>blue</td>\n",
       "      <td>44</td>\n",
       "      <td>6</td>\n",
       "      <td>2</td>\n",
       "      <td>1</td>\n",
       "      <td>8.256,96</td>\n",
       "      <td>1.291,45</td>\n",
       "      <td>33</td>\n",
       "    </tr>\n",
       "    <tr>\n",
       "      <th>2</th>\n",
       "      <td>713982108</td>\n",
       "      <td>0</td>\n",
       "      <td>51</td>\n",
       "      <td>M</td>\n",
       "      <td>3</td>\n",
       "      <td>mestrado</td>\n",
       "      <td>casado</td>\n",
       "      <td>$80K - $120K</td>\n",
       "      <td>blue</td>\n",
       "      <td>36</td>\n",
       "      <td>4</td>\n",
       "      <td>0</td>\n",
       "      <td>1</td>\n",
       "      <td>3.418,56</td>\n",
       "      <td>1.887,72</td>\n",
       "      <td>20</td>\n",
       "    </tr>\n",
       "    <tr>\n",
       "      <th>3</th>\n",
       "      <td>769911858</td>\n",
       "      <td>0</td>\n",
       "      <td>40</td>\n",
       "      <td>F</td>\n",
       "      <td>4</td>\n",
       "      <td>ensino medio</td>\n",
       "      <td>NaN</td>\n",
       "      <td>menos que $40K</td>\n",
       "      <td>blue</td>\n",
       "      <td>34</td>\n",
       "      <td>3</td>\n",
       "      <td>1</td>\n",
       "      <td>4</td>\n",
       "      <td>3.313,03</td>\n",
       "      <td>1.171,56</td>\n",
       "      <td>20</td>\n",
       "    </tr>\n",
       "    <tr>\n",
       "      <th>4</th>\n",
       "      <td>709106358</td>\n",
       "      <td>0</td>\n",
       "      <td>40</td>\n",
       "      <td>M</td>\n",
       "      <td>3</td>\n",
       "      <td>sem educacao formal</td>\n",
       "      <td>casado</td>\n",
       "      <td>$60K - $80K</td>\n",
       "      <td>blue</td>\n",
       "      <td>21</td>\n",
       "      <td>5</td>\n",
       "      <td>0</td>\n",
       "      <td>1</td>\n",
       "      <td>4.716,22</td>\n",
       "      <td>816,08</td>\n",
       "      <td>28</td>\n",
       "    </tr>\n",
       "  </tbody>\n",
       "</table>\n",
       "</div>"
      ],
      "text/plain": [
       "          id  default  idade sexo  dependentes         escolaridade  \\\n",
       "0  768805383        0     45    M            3         ensino medio   \n",
       "1  818770008        0     49    F            5             mestrado   \n",
       "2  713982108        0     51    M            3             mestrado   \n",
       "3  769911858        0     40    F            4         ensino medio   \n",
       "4  709106358        0     40    M            3  sem educacao formal   \n",
       "\n",
       "  estado_civil   salario_anual tipo_cartao  meses_de_relacionamento  \\\n",
       "0       casado     $60K - $80K        blue                       39   \n",
       "1     solteiro  menos que $40K        blue                       44   \n",
       "2       casado    $80K - $120K        blue                       36   \n",
       "3          NaN  menos que $40K        blue                       34   \n",
       "4       casado     $60K - $80K        blue                       21   \n",
       "\n",
       "   qtd_produtos  iteracoes_12m  meses_inativo_12m limite_credito  \\\n",
       "0             5              3                  1      12.691,51   \n",
       "1             6              2                  1       8.256,96   \n",
       "2             4              0                  1       3.418,56   \n",
       "3             3              1                  4       3.313,03   \n",
       "4             5              0                  1       4.716,22   \n",
       "\n",
       "  valor_transacoes_12m  qtd_transacoes_12m  \n",
       "0             1.144,90                  42  \n",
       "1             1.291,45                  33  \n",
       "2             1.887,72                  20  \n",
       "3             1.171,56                  20  \n",
       "4               816,08                  28  "
      ]
     },
     "execution_count": 13,
     "metadata": {},
     "output_type": "execute_result"
    }
   ],
   "source": [
    "df.head()"
   ]
  },
  {
   "cell_type": "markdown",
   "id": "dbfedc7d",
   "metadata": {
    "papermill": {
     "duration": 0.017328,
     "end_time": "2025-07-08T05:44:11.936946",
     "exception": false,
     "start_time": "2025-07-08T05:44:11.919618",
     "status": "completed"
    },
    "tags": []
   },
   "source": [
    "### Abaixo podemos verificar quais colunas possuem dados faltantes:"
   ]
  },
  {
   "cell_type": "code",
   "execution_count": 14,
   "id": "69f372db",
   "metadata": {
    "execution": {
     "iopub.execute_input": "2025-07-08T05:44:11.977352Z",
     "iopub.status.busy": "2025-07-08T05:44:11.976925Z",
     "iopub.status.idle": "2025-07-08T05:44:11.989405Z",
     "shell.execute_reply": "2025-07-08T05:44:11.988231Z"
    },
    "papermill": {
     "duration": 0.035424,
     "end_time": "2025-07-08T05:44:11.991575",
     "exception": false,
     "start_time": "2025-07-08T05:44:11.956151",
     "status": "completed"
    },
    "tags": []
   },
   "outputs": [
    {
     "data": {
      "text/plain": [
       "id                         False\n",
       "default                    False\n",
       "idade                      False\n",
       "sexo                       False\n",
       "dependentes                False\n",
       "escolaridade                True\n",
       "estado_civil                True\n",
       "salario_anual               True\n",
       "tipo_cartao                False\n",
       "meses_de_relacionamento    False\n",
       "qtd_produtos               False\n",
       "iteracoes_12m              False\n",
       "meses_inativo_12m          False\n",
       "limite_credito             False\n",
       "valor_transacoes_12m       False\n",
       "qtd_transacoes_12m         False\n",
       "dtype: bool"
      ]
     },
     "execution_count": 14,
     "metadata": {},
     "output_type": "execute_result"
    }
   ],
   "source": [
    "df.isna().any()"
   ]
  },
  {
   "cell_type": "markdown",
   "id": "d6d31923",
   "metadata": {
    "papermill": {
     "duration": 0.01972,
     "end_time": "2025-07-08T05:44:12.031888",
     "exception": false,
     "start_time": "2025-07-08T05:44:12.012168",
     "status": "completed"
    },
    "tags": []
   },
   "source": [
    "### A função abaixo levanta estatísticas referente as colunas dos dados faltantes:"
   ]
  },
  {
   "cell_type": "code",
   "execution_count": 15,
   "id": "5691c51b",
   "metadata": {
    "execution": {
     "iopub.execute_input": "2025-07-08T05:44:12.073127Z",
     "iopub.status.busy": "2025-07-08T05:44:12.072578Z",
     "iopub.status.idle": "2025-07-08T05:44:12.079437Z",
     "shell.execute_reply": "2025-07-08T05:44:12.077887Z"
    },
    "papermill": {
     "duration": 0.029522,
     "end_time": "2025-07-08T05:44:12.081671",
     "exception": false,
     "start_time": "2025-07-08T05:44:12.052149",
     "status": "completed"
    },
    "tags": []
   },
   "outputs": [],
   "source": [
    "def stats_dados_faltantes(df: pd.DataFrame) -> None:\n",
    "    stats_dados_faltantes = []\n",
    "    for col in df.columns:\n",
    "        if df[col].isna().any():\n",
    "            qtd, _ = df[df[col].isna()].shape\n",
    "            total, _ = df.shape\n",
    "            dict_dados_faltantes = {col: {'quantidade': qtd,'porcentagem': round(100 * qtd/total,2 )}}\n",
    "            stats_dados_faltantes.append(dict_dados_faltantes)\n",
    "\n",
    "    for stat in stats_dados_faltantes:\n",
    "        print(stat)"
   ]
  },
  {
   "cell_type": "code",
   "execution_count": 16,
   "id": "bf4c7dd9",
   "metadata": {
    "execution": {
     "iopub.execute_input": "2025-07-08T05:44:12.121872Z",
     "iopub.status.busy": "2025-07-08T05:44:12.121394Z",
     "iopub.status.idle": "2025-07-08T05:44:12.140210Z",
     "shell.execute_reply": "2025-07-08T05:44:12.138830Z"
    },
    "papermill": {
     "duration": 0.042261,
     "end_time": "2025-07-08T05:44:12.142722",
     "exception": false,
     "start_time": "2025-07-08T05:44:12.100461",
     "status": "completed"
    },
    "tags": []
   },
   "outputs": [
    {
     "name": "stdout",
     "output_type": "stream",
     "text": [
      "{'escolaridade': {'quantidade': 1519, 'porcentagem': 15.0}}\n",
      "{'estado_civil': {'quantidade': 749, 'porcentagem': 7.4}}\n",
      "{'salario_anual': {'quantidade': 1112, 'porcentagem': 10.98}}\n"
     ]
    }
   ],
   "source": [
    "stats_dados_faltantes(df=df)"
   ]
  },
  {
   "cell_type": "code",
   "execution_count": 17,
   "id": "8366e7ee",
   "metadata": {
    "execution": {
     "iopub.execute_input": "2025-07-08T05:44:12.182995Z",
     "iopub.status.busy": "2025-07-08T05:44:12.182522Z",
     "iopub.status.idle": "2025-07-08T05:44:12.188642Z",
     "shell.execute_reply": "2025-07-08T05:44:12.187468Z"
    },
    "papermill": {
     "duration": 0.02906,
     "end_time": "2025-07-08T05:44:12.190415",
     "exception": false,
     "start_time": "2025-07-08T05:44:12.161355",
     "status": "completed"
    },
    "tags": []
   },
   "outputs": [],
   "source": [
    "def stats_dados_faltantes(df: pd.DataFrame) -> pd.DataFrame:\n",
    "    stats = []\n",
    "    for col in df.columns:\n",
    "        if df[col].isna().any():\n",
    "            qtd = df[col].isna().sum()\n",
    "            total = len(df)\n",
    "            stats.append([col, qtd, round(100 * qtd / total, 2)])\n",
    "    return pd.DataFrame(stats, columns=['coluna', 'quantidade', 'porcentagem'])"
   ]
  },
  {
   "cell_type": "code",
   "execution_count": 18,
   "id": "a01d8976",
   "metadata": {
    "execution": {
     "iopub.execute_input": "2025-07-08T05:44:12.229548Z",
     "iopub.status.busy": "2025-07-08T05:44:12.229121Z",
     "iopub.status.idle": "2025-07-08T05:44:12.247672Z",
     "shell.execute_reply": "2025-07-08T05:44:12.246536Z"
    },
    "papermill": {
     "duration": 0.040577,
     "end_time": "2025-07-08T05:44:12.249454",
     "exception": false,
     "start_time": "2025-07-08T05:44:12.208877",
     "status": "completed"
    },
    "tags": []
   },
   "outputs": [
    {
     "data": {
      "text/html": [
       "<div>\n",
       "<style scoped>\n",
       "    .dataframe tbody tr th:only-of-type {\n",
       "        vertical-align: middle;\n",
       "    }\n",
       "\n",
       "    .dataframe tbody tr th {\n",
       "        vertical-align: top;\n",
       "    }\n",
       "\n",
       "    .dataframe thead th {\n",
       "        text-align: right;\n",
       "    }\n",
       "</style>\n",
       "<table border=\"1\" class=\"dataframe\">\n",
       "  <thead>\n",
       "    <tr style=\"text-align: right;\">\n",
       "      <th></th>\n",
       "      <th>coluna</th>\n",
       "      <th>quantidade</th>\n",
       "      <th>porcentagem</th>\n",
       "    </tr>\n",
       "  </thead>\n",
       "  <tbody>\n",
       "    <tr>\n",
       "      <th>0</th>\n",
       "      <td>escolaridade</td>\n",
       "      <td>1519</td>\n",
       "      <td>15.00</td>\n",
       "    </tr>\n",
       "    <tr>\n",
       "      <th>1</th>\n",
       "      <td>estado_civil</td>\n",
       "      <td>749</td>\n",
       "      <td>7.40</td>\n",
       "    </tr>\n",
       "    <tr>\n",
       "      <th>2</th>\n",
       "      <td>salario_anual</td>\n",
       "      <td>1112</td>\n",
       "      <td>10.98</td>\n",
       "    </tr>\n",
       "  </tbody>\n",
       "</table>\n",
       "</div>"
      ],
      "text/plain": [
       "          coluna  quantidade  porcentagem\n",
       "0   escolaridade        1519        15.00\n",
       "1   estado_civil         749         7.40\n",
       "2  salario_anual        1112        10.98"
      ]
     },
     "execution_count": 18,
     "metadata": {},
     "output_type": "execute_result"
    }
   ],
   "source": [
    "stats_dados_faltantes(df=df)"
   ]
  },
  {
   "cell_type": "code",
   "execution_count": 19,
   "id": "c3f1b060",
   "metadata": {
    "execution": {
     "iopub.execute_input": "2025-07-08T05:44:12.289010Z",
     "iopub.status.busy": "2025-07-08T05:44:12.288520Z",
     "iopub.status.idle": "2025-07-08T05:44:12.309385Z",
     "shell.execute_reply": "2025-07-08T05:44:12.308197Z"
    },
    "papermill": {
     "duration": 0.042894,
     "end_time": "2025-07-08T05:44:12.311390",
     "exception": false,
     "start_time": "2025-07-08T05:44:12.268496",
     "status": "completed"
    },
    "tags": []
   },
   "outputs": [
    {
     "data": {
      "text/html": [
       "<div>\n",
       "<style scoped>\n",
       "    .dataframe tbody tr th:only-of-type {\n",
       "        vertical-align: middle;\n",
       "    }\n",
       "\n",
       "    .dataframe tbody tr th {\n",
       "        vertical-align: top;\n",
       "    }\n",
       "\n",
       "    .dataframe thead th {\n",
       "        text-align: right;\n",
       "    }\n",
       "</style>\n",
       "<table border=\"1\" class=\"dataframe\">\n",
       "  <thead>\n",
       "    <tr style=\"text-align: right;\">\n",
       "      <th></th>\n",
       "      <th>coluna</th>\n",
       "      <th>quantidade</th>\n",
       "      <th>porcentagem</th>\n",
       "    </tr>\n",
       "  </thead>\n",
       "  <tbody>\n",
       "    <tr>\n",
       "      <th>0</th>\n",
       "      <td>escolaridade</td>\n",
       "      <td>1263</td>\n",
       "      <td>14.86</td>\n",
       "    </tr>\n",
       "    <tr>\n",
       "      <th>1</th>\n",
       "      <td>estado_civil</td>\n",
       "      <td>620</td>\n",
       "      <td>7.29</td>\n",
       "    </tr>\n",
       "    <tr>\n",
       "      <th>2</th>\n",
       "      <td>salario_anual</td>\n",
       "      <td>925</td>\n",
       "      <td>10.88</td>\n",
       "    </tr>\n",
       "  </tbody>\n",
       "</table>\n",
       "</div>"
      ],
      "text/plain": [
       "          coluna  quantidade  porcentagem\n",
       "0   escolaridade        1263        14.86\n",
       "1   estado_civil         620         7.29\n",
       "2  salario_anual         925        10.88"
      ]
     },
     "execution_count": 19,
     "metadata": {},
     "output_type": "execute_result"
    }
   ],
   "source": [
    "stats_dados_faltantes(df=df[df['default'] ==0])"
   ]
  },
  {
   "cell_type": "code",
   "execution_count": 20,
   "id": "a486196b",
   "metadata": {
    "execution": {
     "iopub.execute_input": "2025-07-08T05:44:12.354757Z",
     "iopub.status.busy": "2025-07-08T05:44:12.354293Z",
     "iopub.status.idle": "2025-07-08T05:44:12.372964Z",
     "shell.execute_reply": "2025-07-08T05:44:12.371640Z"
    },
    "papermill": {
     "duration": 0.042821,
     "end_time": "2025-07-08T05:44:12.375398",
     "exception": false,
     "start_time": "2025-07-08T05:44:12.332577",
     "status": "completed"
    },
    "tags": []
   },
   "outputs": [
    {
     "data": {
      "text/html": [
       "<div>\n",
       "<style scoped>\n",
       "    .dataframe tbody tr th:only-of-type {\n",
       "        vertical-align: middle;\n",
       "    }\n",
       "\n",
       "    .dataframe tbody tr th {\n",
       "        vertical-align: top;\n",
       "    }\n",
       "\n",
       "    .dataframe thead th {\n",
       "        text-align: right;\n",
       "    }\n",
       "</style>\n",
       "<table border=\"1\" class=\"dataframe\">\n",
       "  <thead>\n",
       "    <tr style=\"text-align: right;\">\n",
       "      <th></th>\n",
       "      <th>coluna</th>\n",
       "      <th>quantidade</th>\n",
       "      <th>porcentagem</th>\n",
       "    </tr>\n",
       "  </thead>\n",
       "  <tbody>\n",
       "    <tr>\n",
       "      <th>0</th>\n",
       "      <td>escolaridade</td>\n",
       "      <td>256</td>\n",
       "      <td>15.73</td>\n",
       "    </tr>\n",
       "    <tr>\n",
       "      <th>1</th>\n",
       "      <td>estado_civil</td>\n",
       "      <td>129</td>\n",
       "      <td>7.93</td>\n",
       "    </tr>\n",
       "    <tr>\n",
       "      <th>2</th>\n",
       "      <td>salario_anual</td>\n",
       "      <td>187</td>\n",
       "      <td>11.49</td>\n",
       "    </tr>\n",
       "  </tbody>\n",
       "</table>\n",
       "</div>"
      ],
      "text/plain": [
       "          coluna  quantidade  porcentagem\n",
       "0   escolaridade         256        15.73\n",
       "1   estado_civil         129         7.93\n",
       "2  salario_anual         187        11.49"
      ]
     },
     "execution_count": 20,
     "metadata": {},
     "output_type": "execute_result"
    }
   ],
   "source": [
    "stats_dados_faltantes(df=df[df['default'] == 1])"
   ]
  },
  {
   "cell_type": "markdown",
   "id": "81ab5b76",
   "metadata": {
    "papermill": {
     "duration": 0.018129,
     "end_time": "2025-07-08T05:44:12.413957",
     "exception": false,
     "start_time": "2025-07-08T05:44:12.395828",
     "status": "completed"
    },
    "tags": []
   },
   "source": [
    "## 3. Transformação e Limpeza dos Dados\n",
    "\n",
    "\n",
    "### A etapa de limpeza dos dados tem como o objetivo corrigir inconsistências, tratar valores ausentes e garantir que o conjunto de dados estejam adequado para a análise. As ações incluíram a remoção ou imputação de valores nulos, padronização de tipos de dados e exclusão de registros ou colunas irrelevantes. Essa etapa é essencial para assegurar a qualidade das análises e a confiabilidade dos resultados obtidos.\n",
    "\n",
    "### Abaixo podemos ver que `limite_credito` e `valor_transacoes_12m` estão sendo interpretaods como atributos catregóricos. "
   ]
  },
  {
   "cell_type": "code",
   "execution_count": 21,
   "id": "ef614b58",
   "metadata": {
    "execution": {
     "iopub.execute_input": "2025-07-08T05:44:12.453492Z",
     "iopub.status.busy": "2025-07-08T05:44:12.453067Z",
     "iopub.status.idle": "2025-07-08T05:44:12.462755Z",
     "shell.execute_reply": "2025-07-08T05:44:12.461788Z"
    },
    "papermill": {
     "duration": 0.031132,
     "end_time": "2025-07-08T05:44:12.464335",
     "exception": false,
     "start_time": "2025-07-08T05:44:12.433203",
     "status": "completed"
    },
    "tags": []
   },
   "outputs": [
    {
     "data": {
      "text/plain": [
       "limite_credito          object\n",
       "valor_transacoes_12m    object\n",
       "dtype: object"
      ]
     },
     "execution_count": 21,
     "metadata": {},
     "output_type": "execute_result"
    }
   ],
   "source": [
    "df[['limite_credito', 'valor_transacoes_12m']].dtypes"
   ]
  },
  {
   "cell_type": "code",
   "execution_count": 22,
   "id": "5a110223",
   "metadata": {
    "execution": {
     "iopub.execute_input": "2025-07-08T05:44:12.504614Z",
     "iopub.status.busy": "2025-07-08T05:44:12.504104Z",
     "iopub.status.idle": "2025-07-08T05:44:12.516053Z",
     "shell.execute_reply": "2025-07-08T05:44:12.514768Z"
    },
    "papermill": {
     "duration": 0.034387,
     "end_time": "2025-07-08T05:44:12.518268",
     "exception": false,
     "start_time": "2025-07-08T05:44:12.483881",
     "status": "completed"
    },
    "tags": []
   },
   "outputs": [
    {
     "data": {
      "text/html": [
       "<div>\n",
       "<style scoped>\n",
       "    .dataframe tbody tr th:only-of-type {\n",
       "        vertical-align: middle;\n",
       "    }\n",
       "\n",
       "    .dataframe tbody tr th {\n",
       "        vertical-align: top;\n",
       "    }\n",
       "\n",
       "    .dataframe thead th {\n",
       "        text-align: right;\n",
       "    }\n",
       "</style>\n",
       "<table border=\"1\" class=\"dataframe\">\n",
       "  <thead>\n",
       "    <tr style=\"text-align: right;\">\n",
       "      <th></th>\n",
       "      <th>limite_credito</th>\n",
       "      <th>valor_transacoes_12m</th>\n",
       "    </tr>\n",
       "  </thead>\n",
       "  <tbody>\n",
       "    <tr>\n",
       "      <th>0</th>\n",
       "      <td>12.691,51</td>\n",
       "      <td>1.144,90</td>\n",
       "    </tr>\n",
       "    <tr>\n",
       "      <th>1</th>\n",
       "      <td>8.256,96</td>\n",
       "      <td>1.291,45</td>\n",
       "    </tr>\n",
       "    <tr>\n",
       "      <th>2</th>\n",
       "      <td>3.418,56</td>\n",
       "      <td>1.887,72</td>\n",
       "    </tr>\n",
       "    <tr>\n",
       "      <th>3</th>\n",
       "      <td>3.313,03</td>\n",
       "      <td>1.171,56</td>\n",
       "    </tr>\n",
       "    <tr>\n",
       "      <th>4</th>\n",
       "      <td>4.716,22</td>\n",
       "      <td>816,08</td>\n",
       "    </tr>\n",
       "  </tbody>\n",
       "</table>\n",
       "</div>"
      ],
      "text/plain": [
       "  limite_credito valor_transacoes_12m\n",
       "0      12.691,51             1.144,90\n",
       "1       8.256,96             1.291,45\n",
       "2       3.418,56             1.887,72\n",
       "3       3.313,03             1.171,56\n",
       "4       4.716,22               816,08"
      ]
     },
     "execution_count": 22,
     "metadata": {},
     "output_type": "execute_result"
    }
   ],
   "source": [
    "df[['limite_credito', 'valor_transacoes_12m']].head(5)"
   ]
  },
  {
   "cell_type": "markdown",
   "id": "044c6610",
   "metadata": {
    "papermill": {
     "duration": 0.019127,
     "end_time": "2025-07-08T05:44:12.556508",
     "exception": false,
     "start_time": "2025-07-08T05:44:12.537381",
     "status": "completed"
    },
    "tags": []
   },
   "source": [
    "## 3.1 Correção do *Schema*\n",
    "### Aqui foi criada uma função `lambda` para limpar os dados. "
   ]
  },
  {
   "cell_type": "code",
   "execution_count": 23,
   "id": "743df4a1",
   "metadata": {
    "execution": {
     "iopub.execute_input": "2025-07-08T05:44:12.595982Z",
     "iopub.status.busy": "2025-07-08T05:44:12.595456Z",
     "iopub.status.idle": "2025-07-08T05:44:12.602776Z",
     "shell.execute_reply": "2025-07-08T05:44:12.601453Z"
    },
    "papermill": {
     "duration": 0.029177,
     "end_time": "2025-07-08T05:44:12.604614",
     "exception": false,
     "start_time": "2025-07-08T05:44:12.575437",
     "status": "completed"
    },
    "tags": []
   },
   "outputs": [
    {
     "name": "stdout",
     "output_type": "stream",
     "text": [
      "['12.691,51', '8.256,96', '3.418,56', '3.313,03', '4.716,22']\n",
      "[12691.51, 8256.96, 3418.56, 3313.03, 4716.22]\n"
     ]
    }
   ],
   "source": [
    "fn = lambda valor: float(valor.replace(\".\", \"\").replace(\",\", \".\"))\n",
    "\n",
    "valores_originais = ['12.691,51', '8.256,96', '3.418,56', '3.313,03', '4.716,22']\n",
    "valores_limpos = list(map(fn, valores_originais))\n",
    "\n",
    "print(valores_originais)\n",
    "print(valores_limpos)\n"
   ]
  },
  {
   "cell_type": "markdown",
   "id": "226d0dea",
   "metadata": {
    "papermill": {
     "duration": 0.0195,
     "end_time": "2025-07-08T05:44:12.643130",
     "exception": false,
     "start_time": "2025-07-08T05:44:12.623630",
     "status": "completed"
    },
    "tags": []
   },
   "source": [
    "### A seguir aplicamos a função nas colunas de interesse."
   ]
  },
  {
   "cell_type": "code",
   "execution_count": 24,
   "id": "c7e672a1",
   "metadata": {
    "execution": {
     "iopub.execute_input": "2025-07-08T05:44:12.683520Z",
     "iopub.status.busy": "2025-07-08T05:44:12.683121Z",
     "iopub.status.idle": "2025-07-08T05:44:12.700827Z",
     "shell.execute_reply": "2025-07-08T05:44:12.699627Z"
    },
    "papermill": {
     "duration": 0.040292,
     "end_time": "2025-07-08T05:44:12.702642",
     "exception": false,
     "start_time": "2025-07-08T05:44:12.662350",
     "status": "completed"
    },
    "tags": []
   },
   "outputs": [],
   "source": [
    "df['valor_transacoes_12m'] = df['valor_transacoes_12m'].apply(fn)\n",
    "df['limite_credito'] = df['limite_credito'].apply(fn)"
   ]
  },
  {
   "cell_type": "markdown",
   "id": "0e5f61a3",
   "metadata": {
    "papermill": {
     "duration": 0.018273,
     "end_time": "2025-07-08T05:44:12.739586",
     "exception": false,
     "start_time": "2025-07-08T05:44:12.721313",
     "status": "completed"
    },
    "tags": []
   },
   "source": [
    "### Aqui vemos novamente o *schema*:"
   ]
  },
  {
   "cell_type": "code",
   "execution_count": 25,
   "id": "0792a5c9",
   "metadata": {
    "execution": {
     "iopub.execute_input": "2025-07-08T05:44:12.778738Z",
     "iopub.status.busy": "2025-07-08T05:44:12.778318Z",
     "iopub.status.idle": "2025-07-08T05:44:12.786432Z",
     "shell.execute_reply": "2025-07-08T05:44:12.785361Z"
    },
    "papermill": {
     "duration": 0.030017,
     "end_time": "2025-07-08T05:44:12.788352",
     "exception": false,
     "start_time": "2025-07-08T05:44:12.758335",
     "status": "completed"
    },
    "tags": []
   },
   "outputs": [
    {
     "data": {
      "text/plain": [
       "id                           int64\n",
       "default                      int64\n",
       "idade                        int64\n",
       "sexo                        object\n",
       "dependentes                  int64\n",
       "escolaridade                object\n",
       "estado_civil                object\n",
       "salario_anual               object\n",
       "tipo_cartao                 object\n",
       "meses_de_relacionamento      int64\n",
       "qtd_produtos                 int64\n",
       "iteracoes_12m                int64\n",
       "meses_inativo_12m            int64\n",
       "limite_credito             float64\n",
       "valor_transacoes_12m       float64\n",
       "qtd_transacoes_12m           int64\n",
       "dtype: object"
      ]
     },
     "execution_count": 25,
     "metadata": {},
     "output_type": "execute_result"
    }
   ],
   "source": [
    "df.dtypes"
   ]
  },
  {
   "cell_type": "markdown",
   "id": "57e6978c",
   "metadata": {
    "papermill": {
     "duration": 0.018607,
     "end_time": "2025-07-08T05:44:12.826852",
     "exception": false,
     "start_time": "2025-07-08T05:44:12.808245",
     "status": "completed"
    },
    "tags": []
   },
   "source": [
    "### Atributos categóricos:"
   ]
  },
  {
   "cell_type": "code",
   "execution_count": 26,
   "id": "3338ea7a",
   "metadata": {
    "execution": {
     "iopub.execute_input": "2025-07-08T05:44:12.865903Z",
     "iopub.status.busy": "2025-07-08T05:44:12.865475Z",
     "iopub.status.idle": "2025-07-08T05:44:12.889121Z",
     "shell.execute_reply": "2025-07-08T05:44:12.887985Z"
    },
    "papermill": {
     "duration": 0.045331,
     "end_time": "2025-07-08T05:44:12.890919",
     "exception": false,
     "start_time": "2025-07-08T05:44:12.845588",
     "status": "completed"
    },
    "tags": []
   },
   "outputs": [
    {
     "data": {
      "text/html": [
       "<div>\n",
       "<style scoped>\n",
       "    .dataframe tbody tr th:only-of-type {\n",
       "        vertical-align: middle;\n",
       "    }\n",
       "\n",
       "    .dataframe tbody tr th {\n",
       "        vertical-align: top;\n",
       "    }\n",
       "\n",
       "    .dataframe thead th {\n",
       "        text-align: right;\n",
       "    }\n",
       "</style>\n",
       "<table border=\"1\" class=\"dataframe\">\n",
       "  <thead>\n",
       "    <tr style=\"text-align: right;\">\n",
       "      <th></th>\n",
       "      <th>count</th>\n",
       "      <th>unique</th>\n",
       "      <th>top</th>\n",
       "      <th>freq</th>\n",
       "    </tr>\n",
       "  </thead>\n",
       "  <tbody>\n",
       "    <tr>\n",
       "      <th>sexo</th>\n",
       "      <td>10127</td>\n",
       "      <td>2</td>\n",
       "      <td>F</td>\n",
       "      <td>5358</td>\n",
       "    </tr>\n",
       "    <tr>\n",
       "      <th>escolaridade</th>\n",
       "      <td>8608</td>\n",
       "      <td>5</td>\n",
       "      <td>mestrado</td>\n",
       "      <td>3128</td>\n",
       "    </tr>\n",
       "    <tr>\n",
       "      <th>estado_civil</th>\n",
       "      <td>9378</td>\n",
       "      <td>3</td>\n",
       "      <td>casado</td>\n",
       "      <td>4687</td>\n",
       "    </tr>\n",
       "    <tr>\n",
       "      <th>salario_anual</th>\n",
       "      <td>9015</td>\n",
       "      <td>5</td>\n",
       "      <td>menos que $40K</td>\n",
       "      <td>3561</td>\n",
       "    </tr>\n",
       "    <tr>\n",
       "      <th>tipo_cartao</th>\n",
       "      <td>10127</td>\n",
       "      <td>4</td>\n",
       "      <td>blue</td>\n",
       "      <td>9436</td>\n",
       "    </tr>\n",
       "  </tbody>\n",
       "</table>\n",
       "</div>"
      ],
      "text/plain": [
       "               count unique             top  freq\n",
       "sexo           10127      2               F  5358\n",
       "escolaridade    8608      5        mestrado  3128\n",
       "estado_civil    9378      3          casado  4687\n",
       "salario_anual   9015      5  menos que $40K  3561\n",
       "tipo_cartao    10127      4            blue  9436"
      ]
     },
     "execution_count": 26,
     "metadata": {},
     "output_type": "execute_result"
    }
   ],
   "source": [
    "df.select_dtypes('object').describe().transpose()"
   ]
  },
  {
   "cell_type": "markdown",
   "id": "8a262e2f",
   "metadata": {
    "papermill": {
     "duration": 0.018704,
     "end_time": "2025-07-08T05:44:12.929446",
     "exception": false,
     "start_time": "2025-07-08T05:44:12.910742",
     "status": "completed"
    },
    "tags": []
   },
   "source": [
    "### Atributos numéricos:"
   ]
  },
  {
   "cell_type": "code",
   "execution_count": 27,
   "id": "e1049c1b",
   "metadata": {
    "execution": {
     "iopub.execute_input": "2025-07-08T05:44:12.970093Z",
     "iopub.status.busy": "2025-07-08T05:44:12.969594Z",
     "iopub.status.idle": "2025-07-08T05:44:13.012421Z",
     "shell.execute_reply": "2025-07-08T05:44:13.011092Z"
    },
    "papermill": {
     "duration": 0.065409,
     "end_time": "2025-07-08T05:44:13.014434",
     "exception": false,
     "start_time": "2025-07-08T05:44:12.949025",
     "status": "completed"
    },
    "tags": []
   },
   "outputs": [
    {
     "data": {
      "text/html": [
       "<div>\n",
       "<style scoped>\n",
       "    .dataframe tbody tr th:only-of-type {\n",
       "        vertical-align: middle;\n",
       "    }\n",
       "\n",
       "    .dataframe tbody tr th {\n",
       "        vertical-align: top;\n",
       "    }\n",
       "\n",
       "    .dataframe thead th {\n",
       "        text-align: right;\n",
       "    }\n",
       "</style>\n",
       "<table border=\"1\" class=\"dataframe\">\n",
       "  <thead>\n",
       "    <tr style=\"text-align: right;\">\n",
       "      <th></th>\n",
       "      <th>count</th>\n",
       "      <th>mean</th>\n",
       "      <th>std</th>\n",
       "      <th>min</th>\n",
       "      <th>25%</th>\n",
       "      <th>50%</th>\n",
       "      <th>75%</th>\n",
       "      <th>max</th>\n",
       "    </tr>\n",
       "  </thead>\n",
       "  <tbody>\n",
       "    <tr>\n",
       "      <th>default</th>\n",
       "      <td>10127.0</td>\n",
       "      <td>0.160660</td>\n",
       "      <td>0.367235</td>\n",
       "      <td>0.00</td>\n",
       "      <td>0.000</td>\n",
       "      <td>0.00</td>\n",
       "      <td>0.000</td>\n",
       "      <td>1.00</td>\n",
       "    </tr>\n",
       "    <tr>\n",
       "      <th>idade</th>\n",
       "      <td>10127.0</td>\n",
       "      <td>46.325960</td>\n",
       "      <td>8.016814</td>\n",
       "      <td>26.00</td>\n",
       "      <td>41.000</td>\n",
       "      <td>46.00</td>\n",
       "      <td>52.000</td>\n",
       "      <td>73.00</td>\n",
       "    </tr>\n",
       "    <tr>\n",
       "      <th>dependentes</th>\n",
       "      <td>10127.0</td>\n",
       "      <td>2.346203</td>\n",
       "      <td>1.298908</td>\n",
       "      <td>0.00</td>\n",
       "      <td>1.000</td>\n",
       "      <td>2.00</td>\n",
       "      <td>3.000</td>\n",
       "      <td>5.00</td>\n",
       "    </tr>\n",
       "    <tr>\n",
       "      <th>meses_de_relacionamento</th>\n",
       "      <td>10127.0</td>\n",
       "      <td>35.928409</td>\n",
       "      <td>7.986416</td>\n",
       "      <td>13.00</td>\n",
       "      <td>31.000</td>\n",
       "      <td>36.00</td>\n",
       "      <td>40.000</td>\n",
       "      <td>56.00</td>\n",
       "    </tr>\n",
       "    <tr>\n",
       "      <th>qtd_produtos</th>\n",
       "      <td>10127.0</td>\n",
       "      <td>3.812580</td>\n",
       "      <td>1.554408</td>\n",
       "      <td>1.00</td>\n",
       "      <td>3.000</td>\n",
       "      <td>4.00</td>\n",
       "      <td>5.000</td>\n",
       "      <td>6.00</td>\n",
       "    </tr>\n",
       "    <tr>\n",
       "      <th>iteracoes_12m</th>\n",
       "      <td>10127.0</td>\n",
       "      <td>2.455317</td>\n",
       "      <td>1.106225</td>\n",
       "      <td>0.00</td>\n",
       "      <td>2.000</td>\n",
       "      <td>2.00</td>\n",
       "      <td>3.000</td>\n",
       "      <td>6.00</td>\n",
       "    </tr>\n",
       "    <tr>\n",
       "      <th>meses_inativo_12m</th>\n",
       "      <td>10127.0</td>\n",
       "      <td>2.341167</td>\n",
       "      <td>1.010622</td>\n",
       "      <td>0.00</td>\n",
       "      <td>2.000</td>\n",
       "      <td>2.00</td>\n",
       "      <td>3.000</td>\n",
       "      <td>6.00</td>\n",
       "    </tr>\n",
       "    <tr>\n",
       "      <th>limite_credito</th>\n",
       "      <td>10127.0</td>\n",
       "      <td>8632.440165</td>\n",
       "      <td>9088.788041</td>\n",
       "      <td>1438.00</td>\n",
       "      <td>2555.355</td>\n",
       "      <td>4549.42</td>\n",
       "      <td>11068.175</td>\n",
       "      <td>34516.99</td>\n",
       "    </tr>\n",
       "    <tr>\n",
       "      <th>valor_transacoes_12m</th>\n",
       "      <td>10127.0</td>\n",
       "      <td>4404.583047</td>\n",
       "      <td>3397.128078</td>\n",
       "      <td>510.16</td>\n",
       "      <td>2155.825</td>\n",
       "      <td>3899.59</td>\n",
       "      <td>4741.310</td>\n",
       "      <td>18484.93</td>\n",
       "    </tr>\n",
       "    <tr>\n",
       "      <th>qtd_transacoes_12m</th>\n",
       "      <td>10127.0</td>\n",
       "      <td>64.858695</td>\n",
       "      <td>23.472570</td>\n",
       "      <td>10.00</td>\n",
       "      <td>45.000</td>\n",
       "      <td>67.00</td>\n",
       "      <td>81.000</td>\n",
       "      <td>139.00</td>\n",
       "    </tr>\n",
       "  </tbody>\n",
       "</table>\n",
       "</div>"
      ],
      "text/plain": [
       "                           count         mean          std      min       25%  \\\n",
       "default                  10127.0     0.160660     0.367235     0.00     0.000   \n",
       "idade                    10127.0    46.325960     8.016814    26.00    41.000   \n",
       "dependentes              10127.0     2.346203     1.298908     0.00     1.000   \n",
       "meses_de_relacionamento  10127.0    35.928409     7.986416    13.00    31.000   \n",
       "qtd_produtos             10127.0     3.812580     1.554408     1.00     3.000   \n",
       "iteracoes_12m            10127.0     2.455317     1.106225     0.00     2.000   \n",
       "meses_inativo_12m        10127.0     2.341167     1.010622     0.00     2.000   \n",
       "limite_credito           10127.0  8632.440165  9088.788041  1438.00  2555.355   \n",
       "valor_transacoes_12m     10127.0  4404.583047  3397.128078   510.16  2155.825   \n",
       "qtd_transacoes_12m       10127.0    64.858695    23.472570    10.00    45.000   \n",
       "\n",
       "                             50%        75%       max  \n",
       "default                     0.00      0.000      1.00  \n",
       "idade                      46.00     52.000     73.00  \n",
       "dependentes                 2.00      3.000      5.00  \n",
       "meses_de_relacionamento    36.00     40.000     56.00  \n",
       "qtd_produtos                4.00      5.000      6.00  \n",
       "iteracoes_12m               2.00      3.000      6.00  \n",
       "meses_inativo_12m           2.00      3.000      6.00  \n",
       "limite_credito           4549.42  11068.175  34516.99  \n",
       "valor_transacoes_12m     3899.59   4741.310  18484.93  \n",
       "qtd_transacoes_12m         67.00     81.000    139.00  "
      ]
     },
     "execution_count": 27,
     "metadata": {},
     "output_type": "execute_result"
    }
   ],
   "source": [
    "df.drop('id', axis=1).select_dtypes('number').describe().transpose()"
   ]
  },
  {
   "cell_type": "markdown",
   "id": "a6cb65b3",
   "metadata": {
    "papermill": {
     "duration": 0.01934,
     "end_time": "2025-07-08T05:44:13.055170",
     "exception": false,
     "start_time": "2025-07-08T05:44:13.035830",
     "status": "completed"
    },
    "tags": []
   },
   "source": [
    "## 3.2 Remoção dos dados faltantes\n",
    "#### O próximo passo é remover os dados faltantes.\n",
    "#### A identificação e o tratamento de dados faltantes são fundamentais na análise com pandas, pois garantem a integridade dos resultados e evitam distorções nas conclusões estatísticas."
   ]
  },
  {
   "cell_type": "code",
   "execution_count": 28,
   "id": "15592071",
   "metadata": {
    "execution": {
     "iopub.execute_input": "2025-07-08T05:44:13.095424Z",
     "iopub.status.busy": "2025-07-08T05:44:13.094948Z",
     "iopub.status.idle": "2025-07-08T05:44:13.105553Z",
     "shell.execute_reply": "2025-07-08T05:44:13.104268Z"
    },
    "papermill": {
     "duration": 0.033177,
     "end_time": "2025-07-08T05:44:13.107812",
     "exception": false,
     "start_time": "2025-07-08T05:44:13.074635",
     "status": "completed"
    },
    "tags": []
   },
   "outputs": [],
   "source": [
    "df.dropna(inplace=True)"
   ]
  },
  {
   "cell_type": "code",
   "execution_count": 29,
   "id": "c000ff2a",
   "metadata": {
    "execution": {
     "iopub.execute_input": "2025-07-08T05:44:13.148190Z",
     "iopub.status.busy": "2025-07-08T05:44:13.147773Z",
     "iopub.status.idle": "2025-07-08T05:44:13.153911Z",
     "shell.execute_reply": "2025-07-08T05:44:13.152908Z"
    },
    "papermill": {
     "duration": 0.028028,
     "end_time": "2025-07-08T05:44:13.155516",
     "exception": false,
     "start_time": "2025-07-08T05:44:13.127488",
     "status": "completed"
    },
    "tags": []
   },
   "outputs": [
    {
     "data": {
      "text/plain": [
       "(7081, 16)"
      ]
     },
     "execution_count": 29,
     "metadata": {},
     "output_type": "execute_result"
    }
   ],
   "source": [
    "df.shape"
   ]
  },
  {
   "cell_type": "code",
   "execution_count": 30,
   "id": "bdd26048",
   "metadata": {
    "execution": {
     "iopub.execute_input": "2025-07-08T05:44:13.196938Z",
     "iopub.status.busy": "2025-07-08T05:44:13.196463Z",
     "iopub.status.idle": "2025-07-08T05:44:13.206207Z",
     "shell.execute_reply": "2025-07-08T05:44:13.204932Z"
    },
    "papermill": {
     "duration": 0.032862,
     "end_time": "2025-07-08T05:44:13.208290",
     "exception": false,
     "start_time": "2025-07-08T05:44:13.175428",
     "status": "completed"
    },
    "tags": []
   },
   "outputs": [
    {
     "data": {
      "text/plain": [
       "(5968, 16)"
      ]
     },
     "execution_count": 30,
     "metadata": {},
     "output_type": "execute_result"
    }
   ],
   "source": [
    "df[df['default'] == 0].shape"
   ]
  },
  {
   "cell_type": "code",
   "execution_count": 31,
   "id": "15213576",
   "metadata": {
    "execution": {
     "iopub.execute_input": "2025-07-08T05:44:13.249289Z",
     "iopub.status.busy": "2025-07-08T05:44:13.248871Z",
     "iopub.status.idle": "2025-07-08T05:44:13.257227Z",
     "shell.execute_reply": "2025-07-08T05:44:13.256068Z"
    },
    "papermill": {
     "duration": 0.031101,
     "end_time": "2025-07-08T05:44:13.259246",
     "exception": false,
     "start_time": "2025-07-08T05:44:13.228145",
     "status": "completed"
    },
    "tags": []
   },
   "outputs": [
    {
     "data": {
      "text/plain": [
       "(1113, 16)"
      ]
     },
     "execution_count": 31,
     "metadata": {},
     "output_type": "execute_result"
    }
   ],
   "source": [
    "df[df['default'] == 1].shape"
   ]
  },
  {
   "cell_type": "code",
   "execution_count": 32,
   "id": "dde20b4b",
   "metadata": {
    "execution": {
     "iopub.execute_input": "2025-07-08T05:44:13.301471Z",
     "iopub.status.busy": "2025-07-08T05:44:13.301073Z",
     "iopub.status.idle": "2025-07-08T05:44:13.308902Z",
     "shell.execute_reply": "2025-07-08T05:44:13.307878Z"
    },
    "papermill": {
     "duration": 0.031076,
     "end_time": "2025-07-08T05:44:13.311427",
     "exception": false,
     "start_time": "2025-07-08T05:44:13.280351",
     "status": "completed"
    },
    "tags": []
   },
   "outputs": [],
   "source": [
    "qtd_total_novo, _ = df.shape\n",
    "qtd_adimplentes_novo, _ = df[df['default'] == 0].shape\n",
    "qtd_inadimplentes_novo, _ = df[df['default'] == 1].shape"
   ]
  },
  {
   "cell_type": "code",
   "execution_count": 33,
   "id": "882ba5e4",
   "metadata": {
    "execution": {
     "iopub.execute_input": "2025-07-08T05:44:13.354453Z",
     "iopub.status.busy": "2025-07-08T05:44:13.353973Z",
     "iopub.status.idle": "2025-07-08T05:44:13.361396Z",
     "shell.execute_reply": "2025-07-08T05:44:13.360078Z"
    },
    "papermill": {
     "duration": 0.031129,
     "end_time": "2025-07-08T05:44:13.363732",
     "exception": false,
     "start_time": "2025-07-08T05:44:13.332603",
     "status": "completed"
    },
    "tags": []
   },
   "outputs": [
    {
     "name": "stdout",
     "output_type": "stream",
     "text": [
      "A proporcão adimplentes ativos é de 83.93%\n",
      "A nova proporcão de clientes adimplentes é de 84.28%\n",
      "\n",
      "A proporcão clientes inadimplentes é de 16.07%\n",
      "A nova proporcão de clientes inadimplentes é de 15.72%\n"
     ]
    }
   ],
   "source": [
    "print(f\"A proporcão adimplentes ativos é de {round(100 * quant_adimplentes / quant_total, 2)}%\")\n",
    "print(f\"A nova proporcão de clientes adimplentes é de {round(100 * qtd_adimplentes_novo / qtd_total_novo, 2)}%\")\n",
    "print(\"\")\n",
    "print(f\"A proporcão clientes inadimplentes é de {round(100 * quant_inadimplentes / quant_total, 2)}%\")\n",
    "print(f\"A nova proporcão de clientes inadimplentes é de {round(100 * qtd_inadimplentes_novo / qtd_total_novo, 2)}%\")"
   ]
  },
  {
   "cell_type": "markdown",
   "id": "90e9e394",
   "metadata": {
    "papermill": {
     "duration": 0.019263,
     "end_time": "2025-07-08T05:44:13.402928",
     "exception": false,
     "start_time": "2025-07-08T05:44:13.383665",
     "status": "completed"
    },
    "tags": []
   },
   "source": [
    "## 4. Visualização dos dados\n",
    "#### A visualização de dados é uma etapa fundamental da análise, pois transforma os dados em representações gráficas que facilitam a identificação de padrões, tendências e insights de forma clara e rápida."
   ]
  },
  {
   "cell_type": "markdown",
   "id": "12119589",
   "metadata": {
    "papermill": {
     "duration": 0.019334,
     "end_time": "2025-07-08T05:44:13.441841",
     "exception": false,
     "start_time": "2025-07-08T05:44:13.422507",
     "status": "completed"
    },
    "tags": []
   },
   "source": [
    "#### Vamos dar inicio importando as bibliotecas necessárias e separando os clientes inadimplentes dos clientes adimplentes. "
   ]
  },
  {
   "cell_type": "code",
   "execution_count": 34,
   "id": "bbc95a93",
   "metadata": {
    "execution": {
     "iopub.execute_input": "2025-07-08T05:44:13.483942Z",
     "iopub.status.busy": "2025-07-08T05:44:13.483452Z",
     "iopub.status.idle": "2025-07-08T05:44:15.459111Z",
     "shell.execute_reply": "2025-07-08T05:44:15.457688Z"
    },
    "papermill": {
     "duration": 1.999419,
     "end_time": "2025-07-08T05:44:15.461567",
     "exception": false,
     "start_time": "2025-07-08T05:44:13.462148",
     "status": "completed"
    },
    "tags": []
   },
   "outputs": [],
   "source": [
    "import seaborn as sns\n",
    "import matplotlib.pyplot as plt\n",
    "\n",
    "sns.set_style(\"whitegrid\")"
   ]
  },
  {
   "cell_type": "code",
   "execution_count": 35,
   "id": "0e32517c",
   "metadata": {
    "execution": {
     "iopub.execute_input": "2025-07-08T05:44:15.502589Z",
     "iopub.status.busy": "2025-07-08T05:44:15.501951Z",
     "iopub.status.idle": "2025-07-08T05:44:15.509191Z",
     "shell.execute_reply": "2025-07-08T05:44:15.508088Z"
    },
    "papermill": {
     "duration": 0.0297,
     "end_time": "2025-07-08T05:44:15.511391",
     "exception": false,
     "start_time": "2025-07-08T05:44:15.481691",
     "status": "completed"
    },
    "tags": []
   },
   "outputs": [],
   "source": [
    "df_adimplete = df[df['default'] ==0]"
   ]
  },
  {
   "cell_type": "code",
   "execution_count": 36,
   "id": "77506779",
   "metadata": {
    "execution": {
     "iopub.execute_input": "2025-07-08T05:44:15.552433Z",
     "iopub.status.busy": "2025-07-08T05:44:15.552019Z",
     "iopub.status.idle": "2025-07-08T05:44:15.559085Z",
     "shell.execute_reply": "2025-07-08T05:44:15.557769Z"
    },
    "papermill": {
     "duration": 0.030508,
     "end_time": "2025-07-08T05:44:15.561640",
     "exception": false,
     "start_time": "2025-07-08T05:44:15.531132",
     "status": "completed"
    },
    "tags": []
   },
   "outputs": [],
   "source": [
    "df_inadimplente = df[df['default'] == 1]"
   ]
  },
  {
   "cell_type": "markdown",
   "id": "1cc4e2df",
   "metadata": {
    "papermill": {
     "duration": 0.018828,
     "end_time": "2025-07-08T05:44:15.599930",
     "exception": false,
     "start_time": "2025-07-08T05:44:15.581102",
     "status": "completed"
    },
    "tags": []
   },
   "source": [
    "## 4.1 Visualização Categórica\n",
    "#### Aqui vamos visualizar a relação entre a variável dependente com os atribitos categóricos."
   ]
  },
  {
   "cell_type": "code",
   "execution_count": 37,
   "id": "7c704721",
   "metadata": {
    "execution": {
     "iopub.execute_input": "2025-07-08T05:44:15.639394Z",
     "iopub.status.busy": "2025-07-08T05:44:15.638957Z",
     "iopub.status.idle": "2025-07-08T05:44:15.652894Z",
     "shell.execute_reply": "2025-07-08T05:44:15.651459Z"
    },
    "papermill": {
     "duration": 0.036143,
     "end_time": "2025-07-08T05:44:15.654786",
     "exception": false,
     "start_time": "2025-07-08T05:44:15.618643",
     "status": "completed"
    },
    "tags": []
   },
   "outputs": [
    {
     "data": {
      "text/html": [
       "<div>\n",
       "<style scoped>\n",
       "    .dataframe tbody tr th:only-of-type {\n",
       "        vertical-align: middle;\n",
       "    }\n",
       "\n",
       "    .dataframe tbody tr th {\n",
       "        vertical-align: top;\n",
       "    }\n",
       "\n",
       "    .dataframe thead th {\n",
       "        text-align: right;\n",
       "    }\n",
       "</style>\n",
       "<table border=\"1\" class=\"dataframe\">\n",
       "  <thead>\n",
       "    <tr style=\"text-align: right;\">\n",
       "      <th></th>\n",
       "      <th>sexo</th>\n",
       "      <th>escolaridade</th>\n",
       "      <th>estado_civil</th>\n",
       "      <th>salario_anual</th>\n",
       "      <th>tipo_cartao</th>\n",
       "    </tr>\n",
       "  </thead>\n",
       "  <tbody>\n",
       "    <tr>\n",
       "      <th>0</th>\n",
       "      <td>M</td>\n",
       "      <td>ensino medio</td>\n",
       "      <td>casado</td>\n",
       "      <td>$60K - $80K</td>\n",
       "      <td>blue</td>\n",
       "    </tr>\n",
       "    <tr>\n",
       "      <th>1</th>\n",
       "      <td>F</td>\n",
       "      <td>mestrado</td>\n",
       "      <td>solteiro</td>\n",
       "      <td>menos que $40K</td>\n",
       "      <td>blue</td>\n",
       "    </tr>\n",
       "    <tr>\n",
       "      <th>2</th>\n",
       "      <td>M</td>\n",
       "      <td>mestrado</td>\n",
       "      <td>casado</td>\n",
       "      <td>$80K - $120K</td>\n",
       "      <td>blue</td>\n",
       "    </tr>\n",
       "    <tr>\n",
       "      <th>4</th>\n",
       "      <td>M</td>\n",
       "      <td>sem educacao formal</td>\n",
       "      <td>casado</td>\n",
       "      <td>$60K - $80K</td>\n",
       "      <td>blue</td>\n",
       "    </tr>\n",
       "    <tr>\n",
       "      <th>5</th>\n",
       "      <td>M</td>\n",
       "      <td>mestrado</td>\n",
       "      <td>casado</td>\n",
       "      <td>$40K - $60K</td>\n",
       "      <td>blue</td>\n",
       "    </tr>\n",
       "  </tbody>\n",
       "</table>\n",
       "</div>"
      ],
      "text/plain": [
       "  sexo         escolaridade estado_civil   salario_anual tipo_cartao\n",
       "0    M         ensino medio       casado     $60K - $80K        blue\n",
       "1    F             mestrado     solteiro  menos que $40K        blue\n",
       "2    M             mestrado       casado    $80K - $120K        blue\n",
       "4    M  sem educacao formal       casado     $60K - $80K        blue\n",
       "5    M             mestrado       casado     $40K - $60K        blue"
      ]
     },
     "execution_count": 37,
     "metadata": {},
     "output_type": "execute_result"
    }
   ],
   "source": [
    "df.select_dtypes('object').head(n=5)"
   ]
  },
  {
   "cell_type": "markdown",
   "id": "5e34750a",
   "metadata": {
    "papermill": {
     "duration": 0.019515,
     "end_time": "2025-07-08T05:44:15.694240",
     "exception": false,
     "start_time": "2025-07-08T05:44:15.674725",
     "status": "completed"
    },
    "tags": []
   },
   "source": [
    "### 4.1.1 Escolaridade"
   ]
  },
  {
   "cell_type": "code",
   "execution_count": 38,
   "id": "8725bfad",
   "metadata": {
    "execution": {
     "iopub.execute_input": "2025-07-08T05:44:15.735781Z",
     "iopub.status.busy": "2025-07-08T05:44:15.735318Z",
     "iopub.status.idle": "2025-07-08T05:44:15.744439Z",
     "shell.execute_reply": "2025-07-08T05:44:15.743228Z"
    },
    "papermill": {
     "duration": 0.03231,
     "end_time": "2025-07-08T05:44:15.746472",
     "exception": false,
     "start_time": "2025-07-08T05:44:15.714162",
     "status": "completed"
    },
    "tags": []
   },
   "outputs": [],
   "source": [
    "df_adimplente = df[df['default'] == 0]\n",
    "df_inadimplente = df[df['default'] == 1]"
   ]
  },
  {
   "cell_type": "code",
   "execution_count": 39,
   "id": "90bd3c03",
   "metadata": {
    "execution": {
     "iopub.execute_input": "2025-07-08T05:44:15.787050Z",
     "iopub.status.busy": "2025-07-08T05:44:15.786548Z",
     "iopub.status.idle": "2025-07-08T05:44:16.669758Z",
     "shell.execute_reply": "2025-07-08T05:44:16.668156Z"
    },
    "papermill": {
     "duration": 0.905982,
     "end_time": "2025-07-08T05:44:16.672068",
     "exception": false,
     "start_time": "2025-07-08T05:44:15.766086",
     "status": "completed"
    },
    "tags": []
   },
   "outputs": [
    {
     "data": {
      "image/png": "[encoded data removed]",
      "text/plain": [
       "<Figure size 2000x500 with 3 Axes>"
      ]
     },
     "metadata": {},
     "output_type": "display_data"
    }
   ],
   "source": [
    "coluna = 'escolaridade'\n",
    "titulos = ['Escolaridade dos Clientes', 'Escolaridade dos Clientes Adimplentes', 'Escolaridade dos Clientes Inadimplentes']\n",
    "\n",
    "eixo = 0 \n",
    "max_y = 0\n",
    "max = df.select_dtypes('object').describe()[coluna]['freq'] * 1.1\n",
    "\n",
    "figure, eixos = plt.subplots(1,3, figsize=(20, 5), sharex=True)\n",
    "\n",
    "for dataframe in [df, df_adimplente, df_inadimplente]:\n",
    "    \n",
    "    df_to_plot = dataframe[coluna].value_counts().reset_index()\n",
    "    df_to_plot.columns = [coluna, 'frequencia_absoluta']\n",
    "    df_to_plot.sort_values(by=[coluna], inplace=True)\n",
    "\n",
    "\n",
    "    f = sns.barplot(x=df_to_plot[coluna], y=df_to_plot['frequencia_absoluta'], ax=eixos[eixo])\n",
    "    f.set(title=titulos[eixo], xlabel=coluna.capitalize(), ylabel='Frequência Absoluta')\n",
    "    f.set_xticklabels(labels=f.get_xticklabels(), rotation=90)\n",
    "\n",
    "    _, max_y_f = f.get_ylim()\n",
    "    max_y = max_y_f if max_y_f > max_y else max_y\n",
    "    f.set(ylim=(0, max_y))\n",
    "\n",
    "    eixo += 1\n",
    "\n",
    "figure.show()"
   ]
  },
  {
   "cell_type": "markdown",
   "id": "f53f8a80",
   "metadata": {
    "papermill": {
     "duration": 0.020768,
     "end_time": "2025-07-08T05:44:16.797589",
     "exception": false,
     "start_time": "2025-07-08T05:44:16.776821",
     "status": "completed"
    },
    "tags": []
   },
   "source": [
    "### 4.1.2 Salário Anual"
   ]
  },
  {
   "cell_type": "code",
   "execution_count": 40,
   "id": "b10bbe73",
   "metadata": {
    "execution": {
     "iopub.execute_input": "2025-07-08T05:44:16.841522Z",
     "iopub.status.busy": "2025-07-08T05:44:16.841100Z",
     "iopub.status.idle": "2025-07-08T05:44:17.732953Z",
     "shell.execute_reply": "2025-07-08T05:44:17.731789Z"
    },
    "papermill": {
     "duration": 0.915846,
     "end_time": "2025-07-08T05:44:17.734823",
     "exception": false,
     "start_time": "2025-07-08T05:44:16.818977",
     "status": "completed"
    },
    "tags": []
   },
   "outputs": [
    {
     "data": {
      "image/png": "[encoded data removed]",
      "text/plain": [
       "<Figure size 2000x500 with 3 Axes>"
      ]
     },
     "metadata": {},
     "output_type": "display_data"
    }
   ],
   "source": [
    "coluna = 'salario_anual'\n",
    "titulos = ['Salário dos Clientes', 'Salário Anual dos Clientes Adimplentes', 'Salário Anual dos Clientes Inadimplentes']\n",
    "\n",
    "eixo = 0 \n",
    "max_y = 0\n",
    "max = df.select_dtypes('object').describe()[coluna]['freq'] * 1.1\n",
    "\n",
    "figure, eixos = plt.subplots(1,3, figsize=(20, 5), sharex=True)\n",
    "\n",
    "for dataframe in [df, df_adimplente, df_inadimplente]:\n",
    "    \n",
    "    df_to_plot = dataframe[coluna].value_counts().reset_index()\n",
    "    df_to_plot.columns = [coluna, 'frequencia_absoluta']\n",
    "    df_to_plot.sort_values(by=[coluna], inplace=True)\n",
    "\n",
    "\n",
    "    f = sns.barplot(x=df_to_plot[coluna], y=df_to_plot['frequencia_absoluta'], ax=eixos[eixo])\n",
    "    f.set(title=titulos[eixo], xlabel=coluna.capitalize(), ylabel='Frequência Absoluta')\n",
    "    f.set_xticklabels(labels=f.get_xticklabels(), rotation=90)\n",
    "\n",
    "    _, max_y_f = f.get_ylim()\n",
    "    max_y = max_y_f if max_y_f > max_y else max_y\n",
    "    f.set(ylim=(0, max_y))\n",
    "\n",
    "    eixo += 1\n",
    "\n",
    "figure.show()"
   ]
  },
  {
   "cell_type": "markdown",
   "id": "9ac76965",
   "metadata": {
    "papermill": {
     "duration": 0.021274,
     "end_time": "2025-07-08T05:44:17.778051",
     "exception": false,
     "start_time": "2025-07-08T05:44:17.756777",
     "status": "completed"
    },
    "tags": []
   },
   "source": [
    "### 4.1.3 Estado Civil"
   ]
  },
  {
   "cell_type": "code",
   "execution_count": 41,
   "id": "a29c77ee",
   "metadata": {
    "execution": {
     "iopub.execute_input": "2025-07-08T05:44:17.823498Z",
     "iopub.status.busy": "2025-07-08T05:44:17.823053Z",
     "iopub.status.idle": "2025-07-08T05:44:18.575974Z",
     "shell.execute_reply": "2025-07-08T05:44:18.574552Z"
    },
    "papermill": {
     "duration": 0.777864,
     "end_time": "2025-07-08T05:44:18.577908",
     "exception": false,
     "start_time": "2025-07-08T05:44:17.800044",
     "status": "completed"
    },
    "tags": []
   },
   "outputs": [
    {
     "data": {
      "image/png": "[encoded data removed]",
      "text/plain": [
       "<Figure size 2000x500 with 3 Axes>"
      ]
     },
     "metadata": {},
     "output_type": "display_data"
    }
   ],
   "source": [
    "coluna = 'estado_civil'\n",
    "titulos = ['Estado Civil dos Clientes', 'Estado Civil dos Clientes Adimplentes', 'Estado Civil dos Clientes Inadimplentes']\n",
    "\n",
    "eixo = 0 \n",
    "max_y = 0\n",
    "max = df.select_dtypes('object').describe()[coluna]['freq'] * 1.1\n",
    "\n",
    "figure, eixos = plt.subplots(1,3, figsize=(20, 5), sharex=True)\n",
    "\n",
    "for dataframe in [df, df_adimplente, df_inadimplente]:\n",
    "    \n",
    "    df_to_plot = dataframe[coluna].value_counts().reset_index()\n",
    "    df_to_plot.columns = [coluna, 'frequencia_absoluta']\n",
    "    df_to_plot.sort_values(by=[coluna], inplace=True)\n",
    "\n",
    "\n",
    "    f = sns.barplot(x=df_to_plot[coluna], y=df_to_plot['frequencia_absoluta'], ax=eixos[eixo])\n",
    "    f.set(title=titulos[eixo], xlabel=coluna.capitalize(), ylabel='Frequência Absoluta')\n",
    "    f.set_xticklabels(labels=f.get_xticklabels(), rotation=90)\n",
    "\n",
    "    _, max_y_f = f.get_ylim()\n",
    "    max_y = max_y_f if max_y_f > max_y else max_y\n",
    "    f.set(ylim=(0, max_y))\n",
    "\n",
    "    eixo += 1\n",
    "\n",
    "figure.show()"
   ]
  },
  {
   "cell_type": "markdown",
   "id": "59242dea",
   "metadata": {
    "papermill": {
     "duration": 0.022325,
     "end_time": "2025-07-08T05:44:18.623170",
     "exception": false,
     "start_time": "2025-07-08T05:44:18.600845",
     "status": "completed"
    },
    "tags": []
   },
   "source": [
    "### 4.1.4 Gênero"
   ]
  },
  {
   "cell_type": "code",
   "execution_count": 42,
   "id": "fe4cd728",
   "metadata": {
    "execution": {
     "iopub.execute_input": "2025-07-08T05:44:18.670553Z",
     "iopub.status.busy": "2025-07-08T05:44:18.670125Z",
     "iopub.status.idle": "2025-07-08T05:44:19.344080Z",
     "shell.execute_reply": "2025-07-08T05:44:19.342605Z"
    },
    "papermill": {
     "duration": 0.700536,
     "end_time": "2025-07-08T05:44:19.346483",
     "exception": false,
     "start_time": "2025-07-08T05:44:18.645947",
     "status": "completed"
    },
    "tags": []
   },
   "outputs": [
    {
     "data": {
      "image/png": "[encoded data removed]",
      "text/plain": [
       "<Figure size 2000x500 with 3 Axes>"
      ]
     },
     "metadata": {},
     "output_type": "display_data"
    }
   ],
   "source": [
    "coluna = 'sexo'\n",
    "titulos = ['Gênero dos Clientes', 'Gênero dos Clientes Adimplentes', 'Gênero dos Clientes Inadimplentes']\n",
    "\n",
    "eixo = 0 \n",
    "max_y = 0\n",
    "max = df.select_dtypes('object').describe()[coluna]['freq'] * 1.1\n",
    "\n",
    "figure, eixos = plt.subplots(1,3, figsize=(20, 5), sharex=True)\n",
    "\n",
    "for dataframe in [df, df_adimplente, df_inadimplente]:\n",
    "    \n",
    "    df_to_plot = dataframe[coluna].value_counts().reset_index()\n",
    "    df_to_plot.columns = [coluna, 'frequencia_absoluta']\n",
    "    df_to_plot.sort_values(by=[coluna], inplace=True)\n",
    "\n",
    "\n",
    "    f = sns.barplot(x=df_to_plot[coluna], y=df_to_plot['frequencia_absoluta'], ax=eixos[eixo])\n",
    "    f.set(title=titulos[eixo], xlabel=coluna.capitalize(), ylabel='Frequência Absoluta')\n",
    "    f.set_xticklabels(labels=f.get_xticklabels(), rotation=90)\n",
    "\n",
    "    _, max_y_f = f.get_ylim()\n",
    "    max_y = max_y_f if max_y_f > max_y else max_y\n",
    "    f.set(ylim=(0, max_y))\n",
    "\n",
    "    eixo += 1\n",
    "\n",
    "figure.show()"
   ]
  },
  {
   "cell_type": "markdown",
   "id": "870f0103",
   "metadata": {
    "papermill": {
     "duration": 0.023406,
     "end_time": "2025-07-08T05:44:19.395045",
     "exception": false,
     "start_time": "2025-07-08T05:44:19.371639",
     "status": "completed"
    },
    "tags": []
   },
   "source": [
    "### 4.1.5 Tipo de Cartão dos Clientes"
   ]
  },
  {
   "cell_type": "code",
   "execution_count": 43,
   "id": "56924c9e",
   "metadata": {
    "execution": {
     "iopub.execute_input": "2025-07-08T05:44:19.444378Z",
     "iopub.status.busy": "2025-07-08T05:44:19.443958Z",
     "iopub.status.idle": "2025-07-08T05:44:20.389684Z",
     "shell.execute_reply": "2025-07-08T05:44:20.388451Z"
    },
    "papermill": {
     "duration": 0.972591,
     "end_time": "2025-07-08T05:44:20.391584",
     "exception": false,
     "start_time": "2025-07-08T05:44:19.418993",
     "status": "completed"
    },
    "tags": []
   },
   "outputs": [
    {
     "data": {
      "image/png": "[encoded data removed]",
      "text/plain": [
       "<Figure size 2000x500 with 3 Axes>"
      ]
     },
     "metadata": {},
     "output_type": "display_data"
    }
   ],
   "source": [
    "coluna = 'tipo_cartao'\n",
    "titulos = ['Tipo de Cartão dos Clientes', 'Tipo de Cartão dos Clientes Adimplentes', 'Tipo de Cartão dos Clientes Inadimplentes']\n",
    "\n",
    "eixo = 0 \n",
    "max_y = 0\n",
    "max = df.select_dtypes('object').describe()[coluna]['freq'] * 1.1\n",
    "\n",
    "figure, eixos = plt.subplots(1,3, figsize=(20, 5), sharex=True)\n",
    "\n",
    "for dataframe in [df, df_adimplente, df_inadimplente]:\n",
    "    \n",
    "    df_to_plot = dataframe[coluna].value_counts().reset_index()\n",
    "    df_to_plot.columns = [coluna, 'frequencia_absoluta']\n",
    "    df_to_plot.sort_values(by=[coluna], inplace=True)\n",
    "\n",
    "\n",
    "    f = sns.barplot(x=df_to_plot[coluna], y=df_to_plot['frequencia_absoluta'], ax=eixos[eixo])\n",
    "    f.set(title=titulos[eixo], xlabel=coluna.capitalize(), ylabel='Frequência Absoluta')\n",
    "    f.set_xticklabels(labels=f.get_xticklabels(), rotation=90)\n",
    "\n",
    "    _, max_y_f = f.get_ylim()\n",
    "    max_y = max_y_f if max_y_f > max_y else max_y\n",
    "    f.set(ylim=(0, max_y))\n",
    "\n",
    "    eixo += 1\n",
    "\n",
    "figure.show()"
   ]
  },
  {
   "cell_type": "markdown",
   "id": "b366df45",
   "metadata": {
    "papermill": {
     "duration": 0.02416,
     "end_time": "2025-07-08T05:44:20.440334",
     "exception": false,
     "start_time": "2025-07-08T05:44:20.416174",
     "status": "completed"
    },
    "tags": []
   },
   "source": [
    "## 4.2 Visualização Numérica"
   ]
  },
  {
   "cell_type": "code",
   "execution_count": 44,
   "id": "09a8b780",
   "metadata": {
    "execution": {
     "iopub.execute_input": "2025-07-08T05:44:20.491729Z",
     "iopub.status.busy": "2025-07-08T05:44:20.491197Z",
     "iopub.status.idle": "2025-07-08T05:44:20.507424Z",
     "shell.execute_reply": "2025-07-08T05:44:20.506288Z"
    },
    "papermill": {
     "duration": 0.043809,
     "end_time": "2025-07-08T05:44:20.509382",
     "exception": false,
     "start_time": "2025-07-08T05:44:20.465573",
     "status": "completed"
    },
    "tags": []
   },
   "outputs": [
    {
     "data": {
      "text/html": [
       "<div>\n",
       "<style scoped>\n",
       "    .dataframe tbody tr th:only-of-type {\n",
       "        vertical-align: middle;\n",
       "    }\n",
       "\n",
       "    .dataframe tbody tr th {\n",
       "        vertical-align: top;\n",
       "    }\n",
       "\n",
       "    .dataframe thead th {\n",
       "        text-align: right;\n",
       "    }\n",
       "</style>\n",
       "<table border=\"1\" class=\"dataframe\">\n",
       "  <thead>\n",
       "    <tr style=\"text-align: right;\">\n",
       "      <th></th>\n",
       "      <th>idade</th>\n",
       "      <th>dependentes</th>\n",
       "      <th>meses_de_relacionamento</th>\n",
       "      <th>qtd_produtos</th>\n",
       "      <th>iteracoes_12m</th>\n",
       "      <th>meses_inativo_12m</th>\n",
       "      <th>limite_credito</th>\n",
       "      <th>valor_transacoes_12m</th>\n",
       "      <th>qtd_transacoes_12m</th>\n",
       "    </tr>\n",
       "  </thead>\n",
       "  <tbody>\n",
       "    <tr>\n",
       "      <th>0</th>\n",
       "      <td>45</td>\n",
       "      <td>3</td>\n",
       "      <td>39</td>\n",
       "      <td>5</td>\n",
       "      <td>3</td>\n",
       "      <td>1</td>\n",
       "      <td>12691.51</td>\n",
       "      <td>1144.90</td>\n",
       "      <td>42</td>\n",
       "    </tr>\n",
       "    <tr>\n",
       "      <th>1</th>\n",
       "      <td>49</td>\n",
       "      <td>5</td>\n",
       "      <td>44</td>\n",
       "      <td>6</td>\n",
       "      <td>2</td>\n",
       "      <td>1</td>\n",
       "      <td>8256.96</td>\n",
       "      <td>1291.45</td>\n",
       "      <td>33</td>\n",
       "    </tr>\n",
       "    <tr>\n",
       "      <th>2</th>\n",
       "      <td>51</td>\n",
       "      <td>3</td>\n",
       "      <td>36</td>\n",
       "      <td>4</td>\n",
       "      <td>0</td>\n",
       "      <td>1</td>\n",
       "      <td>3418.56</td>\n",
       "      <td>1887.72</td>\n",
       "      <td>20</td>\n",
       "    </tr>\n",
       "    <tr>\n",
       "      <th>4</th>\n",
       "      <td>40</td>\n",
       "      <td>3</td>\n",
       "      <td>21</td>\n",
       "      <td>5</td>\n",
       "      <td>0</td>\n",
       "      <td>1</td>\n",
       "      <td>4716.22</td>\n",
       "      <td>816.08</td>\n",
       "      <td>28</td>\n",
       "    </tr>\n",
       "    <tr>\n",
       "      <th>5</th>\n",
       "      <td>44</td>\n",
       "      <td>2</td>\n",
       "      <td>36</td>\n",
       "      <td>3</td>\n",
       "      <td>2</td>\n",
       "      <td>1</td>\n",
       "      <td>4010.69</td>\n",
       "      <td>1088.07</td>\n",
       "      <td>24</td>\n",
       "    </tr>\n",
       "  </tbody>\n",
       "</table>\n",
       "</div>"
      ],
      "text/plain": [
       "   idade  dependentes  meses_de_relacionamento  qtd_produtos  iteracoes_12m  \\\n",
       "0     45            3                       39             5              3   \n",
       "1     49            5                       44             6              2   \n",
       "2     51            3                       36             4              0   \n",
       "4     40            3                       21             5              0   \n",
       "5     44            2                       36             3              2   \n",
       "\n",
       "   meses_inativo_12m  limite_credito  valor_transacoes_12m  qtd_transacoes_12m  \n",
       "0                  1        12691.51               1144.90                  42  \n",
       "1                  1         8256.96               1291.45                  33  \n",
       "2                  1         3418.56               1887.72                  20  \n",
       "4                  1         4716.22                816.08                  28  \n",
       "5                  1         4010.69               1088.07                  24  "
      ]
     },
     "execution_count": 44,
     "metadata": {},
     "output_type": "execute_result"
    }
   ],
   "source": [
    "df.drop(['id', 'default'], axis=1).select_dtypes('number').head(n=5)"
   ]
  },
  {
   "cell_type": "markdown",
   "id": "6de4f6d3",
   "metadata": {
    "papermill": {
     "duration": 0.024585,
     "end_time": "2025-07-08T05:44:20.559762",
     "exception": false,
     "start_time": "2025-07-08T05:44:20.535177",
     "status": "completed"
    },
    "tags": []
   },
   "source": [
    "#### A Seguir temos uma analise descritiva dos atributos numéricos"
   ]
  },
  {
   "cell_type": "code",
   "execution_count": 45,
   "id": "e7bc282c",
   "metadata": {
    "execution": {
     "iopub.execute_input": "2025-07-08T05:44:20.611421Z",
     "iopub.status.busy": "2025-07-08T05:44:20.610997Z",
     "iopub.status.idle": "2025-07-08T05:44:20.648479Z",
     "shell.execute_reply": "2025-07-08T05:44:20.647230Z"
    },
    "papermill": {
     "duration": 0.065263,
     "end_time": "2025-07-08T05:44:20.650336",
     "exception": false,
     "start_time": "2025-07-08T05:44:20.585073",
     "status": "completed"
    },
    "tags": []
   },
   "outputs": [
    {
     "data": {
      "text/html": [
       "<div>\n",
       "<style scoped>\n",
       "    .dataframe tbody tr th:only-of-type {\n",
       "        vertical-align: middle;\n",
       "    }\n",
       "\n",
       "    .dataframe tbody tr th {\n",
       "        vertical-align: top;\n",
       "    }\n",
       "\n",
       "    .dataframe thead th {\n",
       "        text-align: right;\n",
       "    }\n",
       "</style>\n",
       "<table border=\"1\" class=\"dataframe\">\n",
       "  <thead>\n",
       "    <tr style=\"text-align: right;\">\n",
       "      <th></th>\n",
       "      <th>idade</th>\n",
       "      <th>dependentes</th>\n",
       "      <th>meses_de_relacionamento</th>\n",
       "      <th>qtd_produtos</th>\n",
       "      <th>iteracoes_12m</th>\n",
       "      <th>meses_inativo_12m</th>\n",
       "      <th>limite_credito</th>\n",
       "      <th>valor_transacoes_12m</th>\n",
       "      <th>qtd_transacoes_12m</th>\n",
       "    </tr>\n",
       "  </thead>\n",
       "  <tbody>\n",
       "    <tr>\n",
       "      <th>count</th>\n",
       "      <td>7081.00</td>\n",
       "      <td>7081.00</td>\n",
       "      <td>7081.00</td>\n",
       "      <td>7081.00</td>\n",
       "      <td>7081.00</td>\n",
       "      <td>7081.00</td>\n",
       "      <td>7081.00</td>\n",
       "      <td>7081.00</td>\n",
       "      <td>7081.00</td>\n",
       "    </tr>\n",
       "    <tr>\n",
       "      <th>mean</th>\n",
       "      <td>46.35</td>\n",
       "      <td>2.34</td>\n",
       "      <td>35.98</td>\n",
       "      <td>3.82</td>\n",
       "      <td>2.45</td>\n",
       "      <td>2.34</td>\n",
       "      <td>8493.26</td>\n",
       "      <td>4394.80</td>\n",
       "      <td>64.50</td>\n",
       "    </tr>\n",
       "    <tr>\n",
       "      <th>std</th>\n",
       "      <td>8.04</td>\n",
       "      <td>1.29</td>\n",
       "      <td>8.00</td>\n",
       "      <td>1.54</td>\n",
       "      <td>1.10</td>\n",
       "      <td>1.00</td>\n",
       "      <td>9126.08</td>\n",
       "      <td>3468.46</td>\n",
       "      <td>23.81</td>\n",
       "    </tr>\n",
       "    <tr>\n",
       "      <th>min</th>\n",
       "      <td>26.00</td>\n",
       "      <td>0.00</td>\n",
       "      <td>13.00</td>\n",
       "      <td>1.00</td>\n",
       "      <td>0.00</td>\n",
       "      <td>0.00</td>\n",
       "      <td>1438.00</td>\n",
       "      <td>510.16</td>\n",
       "      <td>10.00</td>\n",
       "    </tr>\n",
       "    <tr>\n",
       "      <th>25%</th>\n",
       "      <td>41.00</td>\n",
       "      <td>1.00</td>\n",
       "      <td>31.00</td>\n",
       "      <td>3.00</td>\n",
       "      <td>2.00</td>\n",
       "      <td>2.00</td>\n",
       "      <td>2498.35</td>\n",
       "      <td>2089.63</td>\n",
       "      <td>44.00</td>\n",
       "    </tr>\n",
       "    <tr>\n",
       "      <th>50%</th>\n",
       "      <td>46.00</td>\n",
       "      <td>2.00</td>\n",
       "      <td>36.00</td>\n",
       "      <td>4.00</td>\n",
       "      <td>2.00</td>\n",
       "      <td>2.00</td>\n",
       "      <td>4287.22</td>\n",
       "      <td>3831.09</td>\n",
       "      <td>67.00</td>\n",
       "    </tr>\n",
       "    <tr>\n",
       "      <th>75%</th>\n",
       "      <td>52.00</td>\n",
       "      <td>3.00</td>\n",
       "      <td>40.00</td>\n",
       "      <td>5.00</td>\n",
       "      <td>3.00</td>\n",
       "      <td>3.00</td>\n",
       "      <td>10729.40</td>\n",
       "      <td>4740.51</td>\n",
       "      <td>80.00</td>\n",
       "    </tr>\n",
       "    <tr>\n",
       "      <th>max</th>\n",
       "      <td>73.00</td>\n",
       "      <td>5.00</td>\n",
       "      <td>56.00</td>\n",
       "      <td>6.00</td>\n",
       "      <td>6.00</td>\n",
       "      <td>6.00</td>\n",
       "      <td>34516.99</td>\n",
       "      <td>17995.49</td>\n",
       "      <td>134.00</td>\n",
       "    </tr>\n",
       "  </tbody>\n",
       "</table>\n",
       "</div>"
      ],
      "text/plain": [
       "         idade  dependentes  meses_de_relacionamento  qtd_produtos  \\\n",
       "count  7081.00      7081.00                  7081.00       7081.00   \n",
       "mean     46.35         2.34                    35.98          3.82   \n",
       "std       8.04         1.29                     8.00          1.54   \n",
       "min      26.00         0.00                    13.00          1.00   \n",
       "25%      41.00         1.00                    31.00          3.00   \n",
       "50%      46.00         2.00                    36.00          4.00   \n",
       "75%      52.00         3.00                    40.00          5.00   \n",
       "max      73.00         5.00                    56.00          6.00   \n",
       "\n",
       "       iteracoes_12m  meses_inativo_12m  limite_credito  valor_transacoes_12m  \\\n",
       "count        7081.00            7081.00         7081.00               7081.00   \n",
       "mean            2.45               2.34         8493.26               4394.80   \n",
       "std             1.10               1.00         9126.08               3468.46   \n",
       "min             0.00               0.00         1438.00                510.16   \n",
       "25%             2.00               2.00         2498.35               2089.63   \n",
       "50%             2.00               2.00         4287.22               3831.09   \n",
       "75%             3.00               3.00        10729.40               4740.51   \n",
       "max             6.00               6.00        34516.99              17995.49   \n",
       "\n",
       "       qtd_transacoes_12m  \n",
       "count             7081.00  \n",
       "mean                64.50  \n",
       "std                 23.81  \n",
       "min                 10.00  \n",
       "25%                 44.00  \n",
       "50%                 67.00  \n",
       "75%                 80.00  \n",
       "max                134.00  "
      ]
     },
     "execution_count": 45,
     "metadata": {},
     "output_type": "execute_result"
    }
   ],
   "source": [
    "df_numerico = df.drop(['id', 'default'], axis=1).select_dtypes('number')\n",
    "df_numerico.describe().round(2)"
   ]
  },
  {
   "cell_type": "markdown",
   "id": "259e2703",
   "metadata": {
    "papermill": {
     "duration": 0.024564,
     "end_time": "2025-07-08T05:44:20.700302",
     "exception": false,
     "start_time": "2025-07-08T05:44:20.675738",
     "status": "completed"
    },
    "tags": []
   },
   "source": [
    "### 4.2.1 Quantidade de Transações nos Últimos 12 Meses"
   ]
  },
  {
   "cell_type": "code",
   "execution_count": 46,
   "id": "77924512",
   "metadata": {
    "execution": {
     "iopub.execute_input": "2025-07-08T05:44:20.751981Z",
     "iopub.status.busy": "2025-07-08T05:44:20.751502Z",
     "iopub.status.idle": "2025-07-08T05:44:20.758923Z",
     "shell.execute_reply": "2025-07-08T05:44:20.758020Z"
    },
    "papermill": {
     "duration": 0.035627,
     "end_time": "2025-07-08T05:44:20.760873",
     "exception": false,
     "start_time": "2025-07-08T05:44:20.725246",
     "status": "completed"
    },
    "tags": []
   },
   "outputs": [],
   "source": [
    "df_adimplente = df[df['default'] == 0]\n",
    "df_inadimplente = df[df['default'] == 1]"
   ]
  },
  {
   "cell_type": "code",
   "execution_count": 47,
   "id": "3257e132",
   "metadata": {
    "execution": {
     "iopub.execute_input": "2025-07-08T05:44:20.813151Z",
     "iopub.status.busy": "2025-07-08T05:44:20.812724Z",
     "iopub.status.idle": "2025-07-08T05:44:22.051224Z",
     "shell.execute_reply": "2025-07-08T05:44:22.050009Z"
    },
    "papermill": {
     "duration": 1.267346,
     "end_time": "2025-07-08T05:44:22.053605",
     "exception": false,
     "start_time": "2025-07-08T05:44:20.786259",
     "status": "completed"
    },
    "tags": []
   },
   "outputs": [
    {
     "name": "stderr",
     "output_type": "stream",
     "text": [
      "/usr/local/lib/python3.10/dist-packages/seaborn/_oldcore.py:1119: FutureWarning: use_inf_as_na option is deprecated and will be removed in a future version. Convert inf values to NaN before operating instead.\n",
      "  with pd.option_context('mode.use_inf_as_na', True):\n",
      "/usr/local/lib/python3.10/dist-packages/seaborn/_oldcore.py:1119: FutureWarning: use_inf_as_na option is deprecated and will be removed in a future version. Convert inf values to NaN before operating instead.\n",
      "  with pd.option_context('mode.use_inf_as_na', True):\n",
      "/usr/local/lib/python3.10/dist-packages/seaborn/_oldcore.py:1119: FutureWarning: use_inf_as_na option is deprecated and will be removed in a future version. Convert inf values to NaN before operating instead.\n",
      "  with pd.option_context('mode.use_inf_as_na', True):\n"
     ]
    },
    {
     "data": {
      "image/png": "[encoded data removed]",
      "text/plain": [
       "<Figure size 2000x500 with 3 Axes>"
      ]
     },
     "metadata": {},
     "output_type": "display_data"
    }
   ],
   "source": [
    "coluna = 'qtd_transacoes_12m'\n",
    "titulos = ['Qtd. de Transações no Último Ano', 'Qtd. de Transações no Último Ano de Adimplentes', 'Qtd. de Transações no Último Ano de Inadimplentes']\n",
    "\n",
    "eixo = 0 \n",
    "max_y = 0 \n",
    "figure, eixos = plt.subplots(1,3, figsize=(20, 5), sharex=True)\n",
    "\n",
    "for dataframe in [df, df_adimplente, df_inadimplente]:\n",
    "\n",
    "    f = sns.histplot(x=coluna, data=dataframe, stat='count', ax=eixos[eixo])\n",
    "    f.set(title=titulos[eixo], xlabel=coluna.capitalize(), ylabel='Frequência Absoluta')\n",
    "\n",
    "    _,max_y_f = f.get_ylim()\n",
    "    max_y = max_y_f if max_y_f > max_y else max_y\n",
    "    f.set(ylim=(0, max_y))\n",
    "\n",
    "    eixo +=1\n",
    "\n",
    "figure.show()"
   ]
  },
  {
   "cell_type": "markdown",
   "id": "b3aaa1a4",
   "metadata": {
    "papermill": {
     "duration": 0.026504,
     "end_time": "2025-07-08T05:44:22.109993",
     "exception": false,
     "start_time": "2025-07-08T05:44:22.083489",
     "status": "completed"
    },
    "tags": []
   },
   "source": [
    "### 4.2.2 Valor das Transações nos Últimos 12 Meses"
   ]
  },
  {
   "cell_type": "code",
   "execution_count": 48,
   "id": "8d403714",
   "metadata": {
    "execution": {
     "iopub.execute_input": "2025-07-08T05:44:22.165852Z",
     "iopub.status.busy": "2025-07-08T05:44:22.165393Z",
     "iopub.status.idle": "2025-07-08T05:44:23.554922Z",
     "shell.execute_reply": "2025-07-08T05:44:23.553654Z"
    },
    "papermill": {
     "duration": 1.419474,
     "end_time": "2025-07-08T05:44:23.557022",
     "exception": false,
     "start_time": "2025-07-08T05:44:22.137548",
     "status": "completed"
    },
    "tags": []
   },
   "outputs": [
    {
     "name": "stderr",
     "output_type": "stream",
     "text": [
      "/usr/local/lib/python3.10/dist-packages/seaborn/_oldcore.py:1119: FutureWarning: use_inf_as_na option is deprecated and will be removed in a future version. Convert inf values to NaN before operating instead.\n",
      "  with pd.option_context('mode.use_inf_as_na', True):\n",
      "/usr/local/lib/python3.10/dist-packages/seaborn/_oldcore.py:1119: FutureWarning: use_inf_as_na option is deprecated and will be removed in a future version. Convert inf values to NaN before operating instead.\n",
      "  with pd.option_context('mode.use_inf_as_na', True):\n",
      "/usr/local/lib/python3.10/dist-packages/seaborn/_oldcore.py:1119: FutureWarning: use_inf_as_na option is deprecated and will be removed in a future version. Convert inf values to NaN before operating instead.\n",
      "  with pd.option_context('mode.use_inf_as_na', True):\n"
     ]
    },
    {
     "data": {
      "image/png": "[encoded data removed]",
      "text/plain": [
       "<Figure size 2000x500 with 3 Axes>"
      ]
     },
     "metadata": {},
     "output_type": "display_data"
    }
   ],
   "source": [
    "coluna = 'valor_transacoes_12m'\n",
    "titulos = ['Valor das Transações no Último Ano', 'Valor das Transações no Último Ano de Adimplentes', 'Valor das Transações no Último Ano de Inadimplentes']\n",
    "\n",
    "\n",
    "eixo = 0 \n",
    "max_y = 0 \n",
    "figure, eixos = plt.subplots(1,3, figsize=(20, 5), sharex=True)\n",
    "\n",
    "for dataframe in [df, df_adimplente, df_inadimplente]:\n",
    "\n",
    "    f = sns.histplot(x=coluna, data=dataframe, stat='count', ax=eixos[eixo])\n",
    "    f.set(title=titulos[eixo], xlabel=coluna.capitalize(), ylabel='Frequência Absoluta')\n",
    "\n",
    "    _,max_y_f = f.get_ylim()\n",
    "    max_y = max_y_f if max_y_f > max_y else max_y\n",
    "    f.set(ylim=(0, max_y))\n",
    "\n",
    "    eixo +=1\n",
    "\n",
    "figure.show()"
   ]
  },
  {
   "cell_type": "markdown",
   "id": "2d895c5b",
   "metadata": {
    "papermill": {
     "duration": 0.027054,
     "end_time": "2025-07-08T05:44:23.612299",
     "exception": false,
     "start_time": "2025-07-08T05:44:23.585245",
     "status": "completed"
    },
    "tags": []
   },
   "source": [
    "### 4.2.3 Valor de Transações nos Últimos 12 Meses x Quantidade de Transações nos Últimos 12 Meses"
   ]
  },
  {
   "cell_type": "code",
   "execution_count": 49,
   "id": "0c38a6fa",
   "metadata": {
    "execution": {
     "iopub.execute_input": "2025-07-08T05:44:23.669522Z",
     "iopub.status.busy": "2025-07-08T05:44:23.668914Z",
     "iopub.status.idle": "2025-07-08T05:44:25.093817Z",
     "shell.execute_reply": "2025-07-08T05:44:25.092387Z"
    },
    "papermill": {
     "duration": 1.45719,
     "end_time": "2025-07-08T05:44:25.097375",
     "exception": false,
     "start_time": "2025-07-08T05:44:23.640185",
     "status": "completed"
    },
    "tags": []
   },
   "outputs": [
    {
     "data": {
      "image/png": "[encoded data removed]",
      "text/plain": [
       "<Figure size 560.236x500 with 1 Axes>"
      ]
     },
     "metadata": {},
     "output_type": "display_data"
    }
   ],
   "source": [
    "f = sns.relplot(x='valor_transacoes_12m',y='qtd_transacoes_12m', data=df, hue='default')\n",
    "_ = f.set(\n",
    "    title = 'Relação entre Valor e Quantidade de Transações no Último Ano',\n",
    "    xlabel = 'Valor das Transações no Último Ano',\n",
    "    ylabel = 'Quantidade das Transações no Último Ano'\n",
    ")"
   ]
  },
  {
   "cell_type": "markdown",
   "id": "6ca0b909",
   "metadata": {
    "papermill": {
     "duration": 0.032623,
     "end_time": "2025-07-08T05:44:25.162112",
     "exception": false,
     "start_time": "2025-07-08T05:44:25.129489",
     "status": "completed"
    },
    "tags": []
   },
   "source": [
    "### 4.2.4 Limite de Créditos dos Clientes"
   ]
  },
  {
   "cell_type": "markdown",
   "id": "15b8aa42",
   "metadata": {
    "papermill": {
     "duration": 0.031026,
     "end_time": "2025-07-08T05:44:25.225876",
     "exception": false,
     "start_time": "2025-07-08T05:44:25.194850",
     "status": "completed"
    },
    "tags": []
   },
   "source": []
  },
  {
   "cell_type": "code",
   "execution_count": 50,
   "id": "fe8a2b32",
   "metadata": {
    "execution": {
     "iopub.execute_input": "2025-07-08T05:44:25.290426Z",
     "iopub.status.busy": "2025-07-08T05:44:25.290008Z",
     "iopub.status.idle": "2025-07-08T05:44:26.580637Z",
     "shell.execute_reply": "2025-07-08T05:44:26.579352Z"
    },
    "papermill": {
     "duration": 1.325526,
     "end_time": "2025-07-08T05:44:26.582801",
     "exception": false,
     "start_time": "2025-07-08T05:44:25.257275",
     "status": "completed"
    },
    "tags": []
   },
   "outputs": [
    {
     "name": "stderr",
     "output_type": "stream",
     "text": [
      "/usr/local/lib/python3.10/dist-packages/seaborn/_oldcore.py:1119: FutureWarning: use_inf_as_na option is deprecated and will be removed in a future version. Convert inf values to NaN before operating instead.\n",
      "  with pd.option_context('mode.use_inf_as_na', True):\n",
      "/usr/local/lib/python3.10/dist-packages/seaborn/_oldcore.py:1119: FutureWarning: use_inf_as_na option is deprecated and will be removed in a future version. Convert inf values to NaN before operating instead.\n",
      "  with pd.option_context('mode.use_inf_as_na', True):\n",
      "/usr/local/lib/python3.10/dist-packages/seaborn/_oldcore.py:1119: FutureWarning: use_inf_as_na option is deprecated and will be removed in a future version. Convert inf values to NaN before operating instead.\n",
      "  with pd.option_context('mode.use_inf_as_na', True):\n"
     ]
    },
    {
     "data": {
      "image/png": "[encoded data removed]",
      "text/plain": [
       "<Figure size 2000x500 with 3 Axes>"
      ]
     },
     "metadata": {},
     "output_type": "display_data"
    }
   ],
   "source": [
    "coluna = 'limite_credito'\n",
    "titulos = ['Limite de Créditos dos Clientes', 'Limite de Créditos  dos Clientes Adimplentes', 'Limite de Créditos  dos Clientes  Inadimplentes']\n",
    "\n",
    "\n",
    "eixo = 0 \n",
    "max_y = 0 \n",
    "figure, eixos = plt.subplots(1,3, figsize=(20, 5), sharex=True)\n",
    "\n",
    "for dataframe in [df, df_adimplente, df_inadimplente]:\n",
    "\n",
    "    f = sns.histplot(x=coluna, data=dataframe, stat='count', ax=eixos[eixo])\n",
    "    f.set(title=titulos[eixo], xlabel=coluna.capitalize(), ylabel='Frequência Absoluta')\n",
    "\n",
    "    _,max_y_f = f.get_ylim()\n",
    "    max_y = max_y_f if max_y_f > max_y else max_y\n",
    "    f.set(ylim=(0, max_y))\n",
    "\n",
    "    eixo +=1\n",
    "\n",
    "figure.show()"
   ]
  },
  {
   "cell_type": "markdown",
   "id": "d9063dc1",
   "metadata": {
    "papermill": {
     "duration": 0.032005,
     "end_time": "2025-07-08T05:44:26.647436",
     "exception": false,
     "start_time": "2025-07-08T05:44:26.615431",
     "status": "completed"
    },
    "tags": []
   },
   "source": [
    "### 4.2.5 Idade dos Clientes\n"
   ]
  },
  {
   "cell_type": "code",
   "execution_count": 51,
   "id": "1c96b31a",
   "metadata": {
    "execution": {
     "iopub.execute_input": "2025-07-08T05:44:26.713979Z",
     "iopub.status.busy": "2025-07-08T05:44:26.713503Z",
     "iopub.status.idle": "2025-07-08T05:44:28.090769Z",
     "shell.execute_reply": "2025-07-08T05:44:28.089400Z"
    },
    "papermill": {
     "duration": 1.413018,
     "end_time": "2025-07-08T05:44:28.092901",
     "exception": false,
     "start_time": "2025-07-08T05:44:26.679883",
     "status": "completed"
    },
    "tags": []
   },
   "outputs": [
    {
     "name": "stderr",
     "output_type": "stream",
     "text": [
      "/usr/local/lib/python3.10/dist-packages/seaborn/_oldcore.py:1119: FutureWarning: use_inf_as_na option is deprecated and will be removed in a future version. Convert inf values to NaN before operating instead.\n",
      "  with pd.option_context('mode.use_inf_as_na', True):\n",
      "/usr/local/lib/python3.10/dist-packages/seaborn/_oldcore.py:1119: FutureWarning: use_inf_as_na option is deprecated and will be removed in a future version. Convert inf values to NaN before operating instead.\n",
      "  with pd.option_context('mode.use_inf_as_na', True):\n",
      "/usr/local/lib/python3.10/dist-packages/seaborn/_oldcore.py:1119: FutureWarning: use_inf_as_na option is deprecated and will be removed in a future version. Convert inf values to NaN before operating instead.\n",
      "  with pd.option_context('mode.use_inf_as_na', True):\n"
     ]
    },
    {
     "data": {
      "image/png": "[encoded data removed]",
      "text/plain": [
       "<Figure size 2000x500 with 3 Axes>"
      ]
     },
     "metadata": {},
     "output_type": "display_data"
    }
   ],
   "source": [
    "coluna = 'idade'\n",
    "titulos = ['Idade dos Clientes', 'Idade dos Clientes Adimplentes', 'Idade dos Clientes Inadimplentes']\n",
    "\n",
    "eixo = 0 \n",
    "max_y = 0 \n",
    "figure, eixos = plt.subplots(1,3, figsize=(20, 5), sharex=True)\n",
    "\n",
    "for dataframe in [df, df_adimplente, df_inadimplente]:\n",
    "\n",
    "    f = sns.histplot(x=coluna, data=dataframe, stat='count', ax=eixos[eixo])\n",
    "    f.set(title=titulos[eixo], xlabel=coluna.capitalize(), ylabel='Frequência Absoluta')\n",
    "\n",
    "    _,max_y_f = f.get_ylim()\n",
    "    max_y = max_y_f if max_y_f > max_y else max_y\n",
    "    f.set(ylim=(0, max_y))\n",
    "\n",
    "    eixo +=1\n",
    "\n",
    "figure.show()\n"
   ]
  },
  {
   "cell_type": "markdown",
   "id": "20d7734e",
   "metadata": {
    "papermill": {
     "duration": 0.034704,
     "end_time": "2025-07-08T05:44:28.164140",
     "exception": false,
     "start_time": "2025-07-08T05:44:28.129436",
     "status": "completed"
    },
    "tags": []
   },
   "source": [
    "### 4.2.6 Número de Pessoas Dependentes Associadas ao Cliente"
   ]
  },
  {
   "cell_type": "code",
   "execution_count": 52,
   "id": "0dc42d27",
   "metadata": {
    "execution": {
     "iopub.execute_input": "2025-07-08T05:44:28.232259Z",
     "iopub.status.busy": "2025-07-08T05:44:28.231843Z",
     "iopub.status.idle": "2025-07-08T05:44:29.442051Z",
     "shell.execute_reply": "2025-07-08T05:44:29.440815Z"
    },
    "papermill": {
     "duration": 1.246356,
     "end_time": "2025-07-08T05:44:29.444106",
     "exception": false,
     "start_time": "2025-07-08T05:44:28.197750",
     "status": "completed"
    },
    "tags": []
   },
   "outputs": [
    {
     "name": "stderr",
     "output_type": "stream",
     "text": [
      "/usr/local/lib/python3.10/dist-packages/seaborn/_oldcore.py:1119: FutureWarning: use_inf_as_na option is deprecated and will be removed in a future version. Convert inf values to NaN before operating instead.\n",
      "  with pd.option_context('mode.use_inf_as_na', True):\n",
      "/usr/local/lib/python3.10/dist-packages/seaborn/_oldcore.py:1119: FutureWarning: use_inf_as_na option is deprecated and will be removed in a future version. Convert inf values to NaN before operating instead.\n",
      "  with pd.option_context('mode.use_inf_as_na', True):\n",
      "/usr/local/lib/python3.10/dist-packages/seaborn/_oldcore.py:1119: FutureWarning: use_inf_as_na option is deprecated and will be removed in a future version. Convert inf values to NaN before operating instead.\n",
      "  with pd.option_context('mode.use_inf_as_na', True):\n"
     ]
    },
    {
     "data": {
      "image/png": "[encoded data removed]",
      "text/plain": [
       "<Figure size 2000x500 with 3 Axes>"
      ]
     },
     "metadata": {},
     "output_type": "display_data"
    }
   ],
   "source": [
    "coluna = 'dependentes'\n",
    "titulos = ['Quantidade de Dependes dos Clientes', 'Quantidade de Dependes dos Clientes Adimplentes', 'Quantidade de Dependes dos Clientes  Inadimplentes']\n",
    "\n",
    "\n",
    "eixo = 0 \n",
    "max_y = 0 \n",
    "figure, eixos = plt.subplots(1,3, figsize=(20, 5), sharex=True)\n",
    "\n",
    "for dataframe in [df, df_adimplente, df_inadimplente]:\n",
    "\n",
    "    f = sns.histplot(x=coluna, data=dataframe, stat='count', ax=eixos[eixo])\n",
    "    f.set(title=titulos[eixo], xlabel=coluna.capitalize(), ylabel='Frequência Absoluta')\n",
    "\n",
    "    _,max_y_f = f.get_ylim()\n",
    "    max_y = max_y_f if max_y_f > max_y else max_y\n",
    "    f.set(ylim=(0, max_y))\n",
    "\n",
    "    eixo +=1\n",
    "\n",
    "figure.show()"
   ]
  },
  {
   "cell_type": "markdown",
   "id": "d698f5b0",
   "metadata": {
    "papermill": {
     "duration": 0.033897,
     "end_time": "2025-07-08T05:44:29.513222",
     "exception": false,
     "start_time": "2025-07-08T05:44:29.479325",
     "status": "completed"
    },
    "tags": []
   },
   "source": [
    "### 4.2.7 Tempo, em meses, desde que o cliente iniciou relacionamento com a empresa "
   ]
  },
  {
   "cell_type": "code",
   "execution_count": 53,
   "id": "13e9ae66",
   "metadata": {
    "execution": {
     "iopub.execute_input": "2025-07-08T05:44:29.584235Z",
     "iopub.status.busy": "2025-07-08T05:44:29.583785Z",
     "iopub.status.idle": "2025-07-08T05:44:30.803354Z",
     "shell.execute_reply": "2025-07-08T05:44:30.802160Z"
    },
    "papermill": {
     "duration": 1.257062,
     "end_time": "2025-07-08T05:44:30.805481",
     "exception": false,
     "start_time": "2025-07-08T05:44:29.548419",
     "status": "completed"
    },
    "tags": []
   },
   "outputs": [
    {
     "name": "stderr",
     "output_type": "stream",
     "text": [
      "/usr/local/lib/python3.10/dist-packages/seaborn/_oldcore.py:1119: FutureWarning: use_inf_as_na option is deprecated and will be removed in a future version. Convert inf values to NaN before operating instead.\n",
      "  with pd.option_context('mode.use_inf_as_na', True):\n",
      "/usr/local/lib/python3.10/dist-packages/seaborn/_oldcore.py:1119: FutureWarning: use_inf_as_na option is deprecated and will be removed in a future version. Convert inf values to NaN before operating instead.\n",
      "  with pd.option_context('mode.use_inf_as_na', True):\n",
      "/usr/local/lib/python3.10/dist-packages/seaborn/_oldcore.py:1119: FutureWarning: use_inf_as_na option is deprecated and will be removed in a future version. Convert inf values to NaN before operating instead.\n",
      "  with pd.option_context('mode.use_inf_as_na', True):\n"
     ]
    },
    {
     "data": {
      "image/png": "[encoded data removed]",
      "text/plain": [
       "<Figure size 2000x500 with 3 Axes>"
      ]
     },
     "metadata": {},
     "output_type": "display_data"
    }
   ],
   "source": [
    "coluna = 'meses_de_relacionamento'\n",
    "titulos = ['Quantidade de Dependes dos Clientes', 'Quantidade de Dependes dos Clientes Adimplentes', 'Quantidade de Dependes dos Clientes  Inadimplentes']\n",
    "\n",
    "\n",
    "eixo = 0 \n",
    "max_y = 0 \n",
    "figure, eixos = plt.subplots(1,3, figsize=(20, 5), sharex=True)\n",
    "\n",
    "for dataframe in [df, df_adimplente, df_inadimplente]:\n",
    "\n",
    "    f = sns.histplot(x=coluna, data=dataframe, stat='count', ax=eixos[eixo])\n",
    "    f.set(title=titulos[eixo], xlabel=coluna.capitalize(), ylabel='Frequência Absoluta')\n",
    "\n",
    "    _,max_y_f = f.get_ylim()\n",
    "    max_y = max_y_f if max_y_f > max_y else max_y\n",
    "    f.set(ylim=(0, max_y))\n",
    "\n",
    "    eixo +=1\n",
    "\n",
    "figure.show()"
   ]
  },
  {
   "cell_type": "markdown",
   "id": "f9bad4aa",
   "metadata": {
    "papermill": {
     "duration": 0.034626,
     "end_time": "2025-07-08T05:44:30.875136",
     "exception": false,
     "start_time": "2025-07-08T05:44:30.840510",
     "status": "completed"
    },
    "tags": []
   },
   "source": [
    "### 4.2.8 Quantidade de Produtos Contratados pelos Clientes."
   ]
  },
  {
   "cell_type": "code",
   "execution_count": 54,
   "id": "077ef988",
   "metadata": {
    "execution": {
     "iopub.execute_input": "2025-07-08T05:44:30.947005Z",
     "iopub.status.busy": "2025-07-08T05:44:30.946557Z",
     "iopub.status.idle": "2025-07-08T05:44:32.212292Z",
     "shell.execute_reply": "2025-07-08T05:44:32.211072Z"
    },
    "papermill": {
     "duration": 1.305341,
     "end_time": "2025-07-08T05:44:32.215741",
     "exception": false,
     "start_time": "2025-07-08T05:44:30.910400",
     "status": "completed"
    },
    "tags": []
   },
   "outputs": [
    {
     "name": "stderr",
     "output_type": "stream",
     "text": [
      "/usr/local/lib/python3.10/dist-packages/seaborn/_oldcore.py:1119: FutureWarning: use_inf_as_na option is deprecated and will be removed in a future version. Convert inf values to NaN before operating instead.\n",
      "  with pd.option_context('mode.use_inf_as_na', True):\n",
      "/usr/local/lib/python3.10/dist-packages/seaborn/_oldcore.py:1119: FutureWarning: use_inf_as_na option is deprecated and will be removed in a future version. Convert inf values to NaN before operating instead.\n",
      "  with pd.option_context('mode.use_inf_as_na', True):\n",
      "/usr/local/lib/python3.10/dist-packages/seaborn/_oldcore.py:1119: FutureWarning: use_inf_as_na option is deprecated and will be removed in a future version. Convert inf values to NaN before operating instead.\n",
      "  with pd.option_context('mode.use_inf_as_na', True):\n"
     ]
    },
    {
     "data": {
      "image/png": "[encoded data removed]",
      "text/plain": [
       "<Figure size 2000x500 with 3 Axes>"
      ]
     },
     "metadata": {},
     "output_type": "display_data"
    }
   ],
   "source": [
    "coluna = 'qtd_produtos'\n",
    "titulos = ['Quantidade de Produtos dos Clientes', 'Quantidade de Produtos dos Clientes Adimplentes', 'Quantidade de Produtos dos Clientes  Inadimplentes']\n",
    "\n",
    "\n",
    "eixo = 0 \n",
    "max_y = 0 \n",
    "figure, eixos = plt.subplots(1,3, figsize=(20, 5), sharex=True)\n",
    "\n",
    "for dataframe in [df, df_adimplente, df_inadimplente]:\n",
    "\n",
    "    f = sns.histplot(x=coluna, data=dataframe, stat='count', ax=eixos[eixo])\n",
    "    f.set(title=titulos[eixo], xlabel=coluna.capitalize(), ylabel='Frequência Absoluta')\n",
    "\n",
    "    _,max_y_f = f.get_ylim()\n",
    "    max_y = max_y_f if max_y_f > max_y else max_y\n",
    "    f.set(ylim=(0, max_y))\n",
    "\n",
    "    eixo +=1\n",
    "\n",
    "figure.show()"
   ]
  },
  {
   "cell_type": "markdown",
   "id": "1f5bc074",
   "metadata": {
    "papermill": {
     "duration": 0.056683,
     "end_time": "2025-07-08T05:44:32.338567",
     "exception": false,
     "start_time": "2025-07-08T05:44:32.281884",
     "status": "completed"
    },
    "tags": []
   },
   "source": [
    "### 4.2.9 Número de interações que o cliente teve com a empresa nos últimos 12 meses"
   ]
  },
  {
   "cell_type": "code",
   "execution_count": 55,
   "id": "9659ac24",
   "metadata": {
    "execution": {
     "iopub.execute_input": "2025-07-08T05:44:32.418238Z",
     "iopub.status.busy": "2025-07-08T05:44:32.417584Z",
     "iopub.status.idle": "2025-07-08T05:44:33.686329Z",
     "shell.execute_reply": "2025-07-08T05:44:33.685189Z"
    },
    "papermill": {
     "duration": 1.310839,
     "end_time": "2025-07-08T05:44:33.688864",
     "exception": false,
     "start_time": "2025-07-08T05:44:32.378025",
     "status": "completed"
    },
    "tags": []
   },
   "outputs": [
    {
     "name": "stderr",
     "output_type": "stream",
     "text": [
      "/usr/local/lib/python3.10/dist-packages/seaborn/_oldcore.py:1119: FutureWarning: use_inf_as_na option is deprecated and will be removed in a future version. Convert inf values to NaN before operating instead.\n",
      "  with pd.option_context('mode.use_inf_as_na', True):\n",
      "/usr/local/lib/python3.10/dist-packages/seaborn/_oldcore.py:1119: FutureWarning: use_inf_as_na option is deprecated and will be removed in a future version. Convert inf values to NaN before operating instead.\n",
      "  with pd.option_context('mode.use_inf_as_na', True):\n",
      "/usr/local/lib/python3.10/dist-packages/seaborn/_oldcore.py:1119: FutureWarning: use_inf_as_na option is deprecated and will be removed in a future version. Convert inf values to NaN before operating instead.\n",
      "  with pd.option_context('mode.use_inf_as_na', True):\n"
     ]
    },
    {
     "data": {
      "image/png": "[encoded data removed]",
      "text/plain": [
       "<Figure size 2000x500 with 3 Axes>"
      ]
     },
     "metadata": {},
     "output_type": "display_data"
    }
   ],
   "source": [
    "coluna = 'iteracoes_12m'\n",
    "titulos = ['Iterações do Último Ano', 'Iterações do Último Ano dos Clientes Adimplentes', 'Iterações do Último Ano dos Clientes  Inadimplentes']\n",
    "\n",
    "\n",
    "eixo = 0 \n",
    "max_y = 0 \n",
    "figure, eixos = plt.subplots(1,3, figsize=(20, 5), sharex=True)\n",
    "\n",
    "for dataframe in [df, df_adimplente, df_inadimplente]:\n",
    "\n",
    "    f = sns.histplot(x=coluna, data=dataframe, stat='count', ax=eixos[eixo])\n",
    "    f.set(title=titulos[eixo], xlabel=coluna.capitalize(), ylabel='Frequência Absoluta')\n",
    "\n",
    "    _,max_y_f = f.get_ylim()\n",
    "    max_y = max_y_f if max_y_f > max_y else max_y\n",
    "    f.set(ylim=(0, max_y))\n",
    "\n",
    "    eixo +=1\n",
    "\n",
    "figure.show()"
   ]
  },
  {
   "cell_type": "markdown",
   "id": "16f57490",
   "metadata": {
    "papermill": {
     "duration": 0.040831,
     "end_time": "2025-07-08T05:44:33.768434",
     "exception": false,
     "start_time": "2025-07-08T05:44:33.727603",
     "status": "completed"
    },
    "tags": []
   },
   "source": [
    "## Resultado Análise Exploratória dos `Atributos Categóricos` dos Clientes\n",
    "\n",
    "#### A análise dos atributos categóricos revela que a distribuição dos clientes inadimplentes tende a acompanhar a distribuição geral dos clientes em cada categoria, com algumas exceções relevantes.\n",
    "\n",
    "#### Escolaridade\n",
    "    A maioria dos clientes possui mestrado, e essa também é a escolaridade mais comum entre os clientes inadimplentes, indicando que um nível educacional mais alto não necessariamente está associado a menor inadimplência.\n",
    "\n",
    "#### Faixa salarial\n",
    "    A maior parte dos clientes possui um salário inferior a 40 mil, e essa mesma faixa concentra a maior parte dos inadimplentes, sugerindo que clientes com rendas mais baixas podem estar mais propensos à inadimplência.\n",
    "\n",
    "#### Estado civil\n",
    "    A categoria mais frequente é a de clientes casados, tanto entre o total de clientes quanto entre os inadimplentes, o que pode refletir o perfil demográfico predominante, sem indicar forte relação entre estado civil e inadimplência.\n",
    "\n",
    "#### Tipo de cartão\n",
    "    O tipo de cartão mais utilizado é o “Blue”, que também apresenta o maior número de inadimplentes. Isso pode estar relacionado à popularidade geral do cartão, mas vale investigar se ele é mais comum entre clientes com perfil de risco.\n",
    "\n",
    "#### Gênero\n",
    "    Embora o maior número de clientes seja do sexo masculino, a inadimplência é mais frequente entre clientes do sexo feminino, o que pode indicar uma diferença de comportamento financeiro ou condições socioeconômicas que merecem atenção.\n"
   ]
  },
  {
   "cell_type": "markdown",
   "id": "6eb2bccc",
   "metadata": {
    "papermill": {
     "duration": 0.036816,
     "end_time": "2025-07-08T05:44:33.842949",
     "exception": false,
     "start_time": "2025-07-08T05:44:33.806133",
     "status": "completed"
    },
    "tags": []
   },
   "source": [
    "## Análise dos `Atributos Numéricos` dos Clientes\n",
    "### A seguir, apresentamos a análise dos atributos numéricos com base na distribuição observada nos histogramas. A comparação entre o total de clientes e os clientes inadimplentes revela padrões interessantes.\n",
    "\n",
    "### uantidade de Transações (12 meses)\n",
    "    Mínimo: 10 | Máximo: 134 | Média: 64\n",
    "    O histograma geral apresenta crescimento até aproximadamente 50 transações, seguido de uma queda, um novo pico entre 60 e 80, e nova redução.\n",
    "    Entre os clientes inadimplentes, o pico ocorre após 40 transações, com queda antes dos 50, indicando que a inadimplência pode estar mais concentrada entre clientes com volume intermediário de transações.\n",
    "\n",
    "### Valor das Transações (12 meses)\n",
    "    Mínimo: R$510 | Máximo: R$17.995 | Média: R$4.394\n",
    "    O histograma é multimodal, com picos entre 0–2.500, um segundo e mais alto entre 2.600–5.800, e oscilações menores entre 7.500–10.000 e 12.500–17.500.\n",
    "    A distribuição dos clientes inadimplentes segue padrão semelhante, indicando que o valor total transacionado não é um fator discriminante claro entre clientes adimplentes e inadimplentes.\n",
    "\n",
    "### Limite de Crédito\n",
    "    Mínimo: R$1.438 | Máximo: R$34.516 | Média: R$8.493\n",
    "    O histograma apresenta maior concentração de clientes com limites mais baixos, com queda progressiva na frequência conforme o valor aumenta.\n",
    "    Há um pico discreto na faixa mais alta de crédito, indicando um pequeno grupo com limites elevados.\n",
    "    A distribuição entre os clientes inadimplentes é bastante semelhante à geral.\n",
    "\n",
    "### Idade\n",
    "    Mínimo: 26 | Máximo: 73 | Média: 46 anos\n",
    "    Distribuição com formato de montanha e picos nos 35, 44 e 55 anos, com destaque para o pico aos 44 anos.\n",
    "    Entre os inadimplentes, o maior pico ocorre entre 48 e 50 anos, sugerindo uma possível maior incidência de inadimplência nessa faixa etária.\n",
    "\n",
    "### Número de Dependentes\n",
    "    Mínimo: 0 | Máximo: 5 | Média: 2,34\n",
    "    O histograma apresenta uma distribuição simples, com a maioria dos clientes concentrada nas faixas entre 1 e 3 dependentes.\n",
    "    Os clientes inadimplentes seguem padrão semelhante, sem grandes desvios.\n",
    "\n",
    "### Tempo de Relacionamento (em meses)\n",
    "    Mínimo: 13 | Máximo: 56 | Média: 35 meses\n",
    "    O histograma tem formato de montanha suave, com um pico marcante em torno de 36 meses, indicando que grande parte dos clientes está com a empresa há cerca de 3 anos.\n",
    "    A distribuição dos inadimplentes segue o mesmo padrão.\n",
    "\n",
    "### Quantidade de Produtos Contratados\n",
    "    Mínimo: 1 | Máximo: 6 | Média: 3,82\n",
    "    Distribuição simples, com maior concentração de clientes que possuem entre 3 e 4 produtos.\n",
    "    O comportamento dos clientes inadimplentes é similar ao do conjunto geral.\n",
    "\n",
    "### Número de Interações com a Empresa (12 meses)\n",
    "    Mínimo: 0 | Máximo: 6 | Média: 2,45\n",
    "    O histograma mostra picos principais nos valores 2 e 3 interações.\n",
    "    Entre os clientes inadimplentes, o pico ocorre em 3 interações, enquanto os adimplentes tendem a se concentrar mais em 2.\n",
    "    Esse padrão pode indicar que clientes inadimplentes entram mais em contato com a empresa, possivelmente por dificuldades ou solicitações de renegociação."
   ]
  }
 ],
 "metadata": {
  "kaggle": {
   "accelerator": "none",
   "dataSources": [
    {
     "datasetId": 6462488,
     "sourceId": 10438063,
     "sourceType": "datasetVersion"
    }
   ],
   "dockerImageVersionId": 30822,
   "isGpuEnabled": false,
   "isInternetEnabled": true,
   "language": "python",
   "sourceType": "notebook"
  },
  "kernelspec": {
   "display_name": "Python 3",
   "language": "python",
   "name": "python3"
  },
  "language_info": {
   "codemirror_mode": {
    "name": "ipython",
    "version": 3
   },
   "file_extension": ".py",
   "mimetype": "text/x-python",
   "name": "python",
   "nbconvert_exporter": "python",
   "pygments_lexer": "ipython3",
   "version": "3.10.12"
  },
  "papermill": {
   "default_parameters": {},
   "duration": 29.042149,
   "end_time": "2025-07-08T05:44:35.106287",
   "environment_variables": {},
   "exception": null,
   "input_path": "__notebook__.ipynb",
   "output_path": "__notebook__.ipynb",
   "parameters": {},
   "start_time": "2025-07-08T05:44:06.064138",
   "version": "2.6.0"
  }
 },
 "nbformat": 4,
 "nbformat_minor": 5
}
